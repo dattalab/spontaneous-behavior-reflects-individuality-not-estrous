{
 "cells": [
  {
   "cell_type": "markdown",
   "id": "8c932cb4",
   "metadata": {},
   "source": [
    "imports and uploads\n",
    "-----------"
   ]
  },
  {
   "cell_type": "code",
   "execution_count": 1,
   "id": "a9def74a",
   "metadata": {},
   "outputs": [],
   "source": [
    "import numpy as np\n",
    "import seaborn as sns\n",
    "import pandas as pd\n",
    "import matplotlib.pyplot as plt\n",
    "import warnings\n",
    "warnings.filterwarnings(\"ignore\", category=DeprecationWarning) \n",
    "warnings.simplefilter('ignore')\n",
    "import os\n",
    "import colorcet as cc\n",
    "from sklearn.preprocessing import LabelEncoder\n",
    "from scipy import stats\n",
    "import scipy\n",
    "from matplotlib.lines import Line2D\n",
    "%matplotlib inline"
   ]
  },
  {
   "cell_type": "code",
   "execution_count": 2,
   "id": "8ff9ede7",
   "metadata": {},
   "outputs": [],
   "source": [
    "# upload data\n",
    "cpath = os.getcwd() #assumes mean_df_females is in the same path as the notebook\n",
    "mean_df = pd.read_csv(cpath+'/mean_df_male.csv')"
   ]
  },
  {
   "cell_type": "markdown",
   "id": "d10b637a",
   "metadata": {},
   "source": [
    "UMAP preprocessing and functions\n",
    "--------------------"
   ]
  },
  {
   "cell_type": "code",
   "execution_count": 3,
   "id": "fab75bef",
   "metadata": {},
   "outputs": [],
   "source": [
    "import warnings\n",
    "\n",
    "# Binning / smoothing\n",
    "    \n",
    "# Normalization\n",
    "\n",
    "def zscore(data, axis=0, eps=1e-10):\n",
    "    \"\"\"\n",
    "    Z-score standardize the data along ``axis``\n",
    "    \"\"\"\n",
    "    mean = np.mean(data, axis=axis, keepdims=True)\n",
    "    std = np.std(data, axis=axis, keepdims=True) + eps\n",
    "    return (data-mean)/std\n",
    "\n",
    "\n",
    "# Dimensionality reduction\n",
    "\n",
    "def umap_embedding(\n",
    "    data, \n",
    "    standardize=True,\n",
    "    n_pcs=20, \n",
    "    n_components=2, \n",
    "    n_neighbors=100,\n",
    "    random_state=42,\n",
    "    **kwargs\n",
    "):\n",
    "    \"\"\"Generate a 2D embedding of neural activity using UMAP. The function \n",
    "    generates the embedding in three steps:\n",
    "        1. (Optionally) standardize (Z-score) the activity of each neuron\n",
    "        2. Perform initial dimensionality reduction using PCA\n",
    "        3. Run UMAP on the output of PCA\n",
    "    Parameters\n",
    "    ----------\n",
    "    data: ndarray\n",
    "        rows are sessions and columns are syllables\n",
    "    standardize: bool, default=True\n",
    "        Whether to standardize (Z-score) the data prior to PCA\n",
    "    n_pcs: int, default=20\n",
    "        Number of principal components to use during PCA. If ``n_pcs=None``, the binned \n",
    "        data will be passed directly to UMAP\n",
    "    n_components: int, default=2\n",
    "        Dimensionality of the embedding\n",
    "    n_neighbors: int, default=100\n",
    "        Passed to UMAP (see `explanation of UMAP parameters <https://umap-learn.readthedocs.io/en/latest/parameters.html>`_).\n",
    "    **kwargs\n",
    "        Any other UMAP parameters can also be passed as keyword arguments\n",
    "    Returns\n",
    "    -------\n",
    "    coodinates: ndarray\n",
    "        (N,2) array containing UMAP coordinates\n",
    "    \"\"\"\n",
    "    from sklearn.decomposition import PCA\n",
    "    from umap import UMAP\n",
    "\n",
    "    if standardize: data = zscore(data, axis=1)\n",
    "    PCs = PCA(n_components=n_pcs).fit_transform(data.T)\n",
    "    umap_obj = UMAP(n_neighbors=n_neighbors, n_components=n_components, n_epochs=500,random_state=random_state,**kwargs)\n",
    "    coordinates = umap_obj.fit_transform(PCs)\n",
    "    return coordinates"
   ]
  },
  {
   "cell_type": "markdown",
   "id": "39f57ead",
   "metadata": {},
   "source": [
    "rearrrange data in structure\n",
    "----------"
   ]
  },
  {
   "cell_type": "code",
   "execution_count": 4,
   "id": "6ca22099",
   "metadata": {},
   "outputs": [],
   "source": [
    "# arrange all data in stcuture: 4 phases X 16 mice in each phase X n samples in session\n",
    "mic = sorted(mean_df['mouse'].unique())\n",
    "rep = sorted(mean_df['rep'].unique())\n",
    "msessions=[]\n",
    "mdbg = []\n",
    "mmice=[]\n",
    "mrep = []\n",
    "for indm, mc in enumerate(mic): # for all mice\n",
    "    s1=[]\n",
    "    rep1=[]\n",
    "    smic1=[]\n",
    "    m1=[]\n",
    "    curr=mean_df.loc[(mean_df['mouse']==mc)] # find the current mouse in current phase\n",
    "    sor=np.argsort(curr['rep'].unique(),axis=0)\n",
    "    cs=curr['SubjectName'].unique()[sor]\n",
    "    for inds, ss in enumerate(cs): #all session for a mouse\n",
    "            syl = curr.loc[curr['SubjectName']==ss]['usage'].values\n",
    "            area = curr.loc[curr['SubjectName']==ss]['area_mm'].mean()\n",
    "            s1.append(ss) #session name\n",
    "            rep1.append(int(curr.loc[curr['SubjectName']==ss]['rep'].unique())) #repetition number\n",
    "            smic1.append(syl) #syllable usafe\n",
    "            m1.append(mc) #mouse\n",
    "    mmice.append(m1) # 16 mics X n sessions \n",
    "    mdbg.append(smic1) #syllable usages 16 mice X n sessions X 61 syllables \n",
    "    msessions.append(s1) # 16 mice X sessions names\n",
    "    mrep.append(rep1) # 16 mice X repetitions names"
   ]
  },
  {
   "cell_type": "markdown",
   "id": "b7131dc4",
   "metadata": {},
   "source": [
    "# ----------------------------------------------------------------------- \n",
    "# ANALYSIS\n",
    "# -----------------------------------------------------------------------"
   ]
  },
  {
   "cell_type": "code",
   "execution_count": 5,
   "id": "b4320481",
   "metadata": {},
   "outputs": [],
   "source": [
    "# plot/colors definitions\n",
    "data_loc=cpath+'/figs/'\n",
    "try:\n",
    "    os.mkdir(data_loc)\n",
    "except FileExistsError:\n",
    "    # directory already exists\n",
    "    pass\n",
    "\n",
    "plt.style.use(\"seaborn-paper\")\n",
    "cmap2 = cc.glasbey\n",
    "\n",
    "rrep_labels = np.unique(np.concatenate(mrep))\n",
    "mouse_labels = np.unique(np.concatenate(mmice))\n",
    "max_sylls=len(mdbg[0][1])"
   ]
  },
  {
   "cell_type": "markdown",
   "id": "1c30da9f",
   "metadata": {},
   "source": [
    "UMAP\n",
    "-----------"
   ]
  },
  {
   "cell_type": "code",
   "execution_count": 6,
   "id": "8db37f9c",
   "metadata": {},
   "outputs": [],
   "source": [
    "# sort frequencies by mouse\n",
    "frequencies = np.concatenate(mdbg)\n",
    "coordinates = umap_embedding(frequencies.T, \n",
    "        standardize=True,\n",
    "        n_pcs=None, \n",
    "        n_components=2, \n",
    "        n_neighbors=8,\n",
    "        random_state=12)"
   ]
  },
  {
   "cell_type": "code",
   "execution_count": 7,
   "id": "a5715957",
   "metadata": {},
   "outputs": [
    {
     "data": {
      "image/png": "[encoded data removed]",
      "text/plain": [
       "<Figure size 360x360 with 1 Axes>"
      ]
     },
     "metadata": {},
     "output_type": "display_data"
    }
   ],
   "source": [
    "# variables to plot\n",
    "import colorcet as cc\n",
    "cmap2 = cc.glasbey\n",
    "custom_lines=[]\n",
    "\n",
    "# set the colors for the plot\n",
    "for i in range(len(mouse_labels)):\n",
    "    custom_lines.append(Line2D([0], [0], color=cmap2[i], lw=4))\n",
    "le = LabelEncoder()\n",
    "le.fit(np.unique(np.concatenate(mmice)))\n",
    "y = le.transform(np.concatenate(mmice))\n",
    "    \n",
    "fig, ax = plt.subplots()\n",
    "fig.set_size_inches(5,5) \n",
    "plt.legend(handles=custom_lines,labels=list(mouse_labels),bbox_to_anchor=(1.2, 1))\n",
    "plt.title('Umap colored by indv',fontsize=20)\n",
    "ax.set_xticks([])\n",
    "ax.set_yticks([])\n",
    "fig.patch.set_facecolor('white')\n",
    "    \n",
    "for i in range(len(coordinates)):\n",
    "    plt.scatter(coordinates[i][0],coordinates[i][1],color=custom_lines[y[i]].get_color(), s=50)       \n",
    "fig.savefig(data_loc + 'umap_indv_male.pdf', bbox_inches='tight')"
   ]
  }
 ],
 "metadata": {
  "kernelspec": {
   "display_name": "Python 3",
   "language": "python",
   "name": "python3"
  },
  "language_info": {
   "codemirror_mode": {
    "name": "ipython",
    "version": 3
   },
   "file_extension": ".py",
   "mimetype": "text/x-python",
   "name": "python",
   "nbconvert_exporter": "python",
   "pygments_lexer": "ipython3",
   "version": "3.7.10"
  },
  "widgets": {
   "application/vnd.jupyter.widget-state+json": {
    "state": {},
    "version_major": 2,
    "version_minor": 0
   }
  }
 },
 "nbformat": 4,
 "nbformat_minor": 5
}
