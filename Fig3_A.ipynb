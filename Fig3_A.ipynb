{
 "cells": [
  {
   "cell_type": "markdown",
   "id": "8c932cb4",
   "metadata": {},
   "source": [
    "imports and data upload\n",
    "-----------"
   ]
  },
  {
   "cell_type": "code",
   "execution_count": 1,
   "id": "a9def74a",
   "metadata": {},
   "outputs": [],
   "source": [
    "import numpy as np\n",
    "import seaborn as sns\n",
    "import pandas as pd\n",
    "import matplotlib.pyplot as plt\n",
    "import warnings\n",
    "warnings.filterwarnings(\"ignore\", category=DeprecationWarning) \n",
    "warnings.simplefilter('ignore')\n",
    "import os\n",
    "from scipy import stats\n",
    "import scipy\n",
    "%matplotlib inline"
   ]
  },
  {
   "cell_type": "code",
   "execution_count": 2,
   "id": "840d5b3c",
   "metadata": {},
   "outputs": [],
   "source": [
    "# upload data\n",
    "cpath = os.getcwd() #assumes mean_df_females is in the same path as the notebook\n",
    "mean_df = pd.read_csv(cpath+'/mean_df_female.csv')"
   ]
  },
  {
   "cell_type": "markdown",
   "id": "b7131dc4",
   "metadata": {},
   "source": [
    "# ----------------------------------------------------------------------- \n",
    "# ANALYSIS\n",
    "# -----------------------------------------------------------------------"
   ]
  },
  {
   "cell_type": "code",
   "execution_count": 3,
   "id": "eaaddeb8",
   "metadata": {},
   "outputs": [],
   "source": [
    "# plot/colors definitions\n",
    "data_loc=cpath+'/figs/'\n",
    "try:\n",
    "    os.mkdir(data_loc)\n",
    "except FileExistsError:\n",
    "    # directory already exists\n",
    "    pass\n",
    "\n",
    "plt.style.use(\"seaborn-paper\")\n",
    "cmap2= ['#EC6D52' , '#5BA6E6']"
   ]
  },
  {
   "cell_type": "markdown",
   "id": "830aed41",
   "metadata": {},
   "source": [
    "KLD functions\n",
    "--------------------------"
   ]
  },
  {
   "cell_type": "code",
   "execution_count": 4,
   "id": "11007b85",
   "metadata": {},
   "outputs": [],
   "source": [
    "def KLD_analysis(frequencies):\n",
    "    '''rows are sessions (or mice/phases), columns are variables (syllables)'''\n",
    "    cohort_dist=np.zeros((len(frequencies),len(frequencies)),dtype=float)\n",
    "    x=0\n",
    "    y=0\n",
    "    for i in frequencies:\n",
    "        for j in frequencies:\n",
    "            i[i==0]=.0000000001\n",
    "            j[j==0]=.0000000001\n",
    "            cohort_dist[x,y]=scipy.stats.entropy(pk=np.array(i), qk=np.array(j))\n",
    "            y=y+1\n",
    "        y=0\n",
    "        x=x+1\n",
    "    return cohort_dist"
   ]
  },
  {
   "cell_type": "markdown",
   "id": "1b385920",
   "metadata": {},
   "source": [
    "## KLD calculations"
   ]
  },
  {
   "cell_type": "code",
   "execution_count": 5,
   "id": "3a9ca589",
   "metadata": {},
   "outputs": [],
   "source": [
    "# KLD between individual mice (average syllable use per mouse)\n",
    "female_mean_df=mean_df.copy()\n",
    "mm=[]\n",
    "temp_mean_df= female_mean_df.groupby(by = ['mouse', 'syllable']).mean()['usage'].reset_index()\n",
    "mean_df_lc = pd.pivot_table(temp_mean_df, values='usage', index=['mouse'], columns=['syllable']).reset_index().fillna(0)\n",
    "mm=mean_df_lc.drop(['mouse'], axis=1).to_numpy()\n",
    "KLD_indv = KLD_analysis(mm)\n",
    "mean_kld_indv = np.mean(KLD_indv,axis=0)\n",
    "\n",
    "# KLD between phases (within mouse)\n",
    "temp_mean_df = female_mean_df.groupby(by = ['mouse', 'group', 'syllable']).mean()['usage'].reset_index()\n",
    "mean_df_lc = pd.pivot_table(temp_mean_df, values='usage', index=['mouse','group'], columns=['syllable']).reset_index().fillna(0)\n",
    "mean_kld_phase=[]\n",
    "mice = female_mean_df['mouse'].unique()\n",
    "for choose in mice:\n",
    "        curr = mean_df_lc[mean_df_lc['mouse'] == choose]\n",
    "        curr = curr.drop(['group','mouse'], axis=1).to_numpy()\n",
    "        KLD_phase = KLD_analysis(curr)\n",
    "        mean_kld_phase.append(np.mean(KLD_phase))"
   ]
  },
  {
   "cell_type": "markdown",
   "id": "56a0ce88",
   "metadata": {},
   "source": [
    "KLD plots\n",
    "--------------"
   ]
  },
  {
   "cell_type": "code",
   "execution_count": 6,
   "id": "58bcf008",
   "metadata": {},
   "outputs": [],
   "source": [
    "# create dataframe and save for female\n",
    "kld = np.concatenate((np.array(mean_kld_indv),\n",
    "                      np.array(mean_kld_phase)))\n",
    "groups = np.concatenate((len(np.array(mean_kld_indv)) * ['indv'],\n",
    "                         len(np.array(mean_kld_phase)) * ['phase']))\n",
    "klddata = {'KLD': list(kld), \n",
    "           'Groups': list(groups)}\n",
    "# Create DataFrame\n",
    "df = pd.DataFrame(klddata)\n",
    "df = df[(df != 0).all(1)] # remove self distance"
   ]
  },
  {
   "cell_type": "code",
   "execution_count": 7,
   "id": "d2c75281",
   "metadata": {},
   "outputs": [
    {
     "data": {
      "image/png": "[encoded data removed]",
      "text/plain": [
       "<Figure size 200x400 with 1 Axes>"
      ]
     },
     "metadata": {
      "needs_background": "light"
     },
     "output_type": "display_data"
    }
   ],
   "source": [
    "#### plot distributions#####\n",
    "fig = plt.figure(figsize=(1, 2))\n",
    "fig.dpi = 200\n",
    "ax = sns.boxplot(data=df, showfliers=False, showcaps=False,x=\"Groups\",y=\"KLD\",order=['phase','indv'], palette = cmap2)\n",
    "plt.xticks(ticks=[0, 1], labels=['phase', 'inter-indv'], rotation=90)\n",
    "ax.set(ylabel='KLD (nats)')\n",
    "plt.ylim([0,0.2])\n",
    "sns.despine()\n",
    "fig.savefig(data_loc +'female_kld_boxplot.pdf', bbox_inches='tight')"
   ]
  },
  {
   "cell_type": "markdown",
   "id": "c8cf27bc",
   "metadata": {},
   "source": [
    "statistics\n",
    "------------"
   ]
  },
  {
   "cell_type": "code",
   "execution_count": 8,
   "id": "77d965ae",
   "metadata": {},
   "outputs": [
    {
     "name": "stdout",
     "output_type": "stream",
     "text": [
      "wilcoxon\n",
      "kld p value: 6.103515625e-05\n",
      "kld T statistics: 1.0\n"
     ]
    }
   ],
   "source": [
    "# statistics\n",
    "print('wilcoxon')\n",
    "ivsp= stats.wilcoxon(df[df.Groups=='indv'].KLD, df[df.Groups=='phase'].KLD, alternative='two-sided')\n",
    "print('kld p value:', ivsp.pvalue)\n",
    "print('kld T statistics:', ivsp.statistic)"
   ]
  },
  {
   "cell_type": "markdown",
   "id": "4772f089",
   "metadata": {},
   "source": [
    "CV instead of KLD\n",
    "--------------"
   ]
  },
  {
   "cell_type": "code",
   "execution_count": 9,
   "id": "3278e833",
   "metadata": {},
   "outputs": [],
   "source": [
    "# CV between mice (average syllable use per mouse)\n",
    "mm=[]\n",
    "temp_mean_df= female_mean_df.groupby(by = ['mouse', 'syllable']).mean()['usage'].reset_index()\n",
    "mean_df_lc = pd.pivot_table(temp_mean_df, values='usage', index=['mouse'], columns=['syllable']).reset_index().fillna(0)\n",
    "mm=mean_df_lc.drop(['mouse'], axis=1).to_numpy()\n",
    "sys=np.nanstd(np.array(mm), axis=0)\n",
    "sym=np.nanmean(np.array(mm), axis=0)\n",
    "cv_indv=sys/sym # each syllable will have a cv value\n",
    "\n",
    "# cv between phases (within mouse)\n",
    "temp_mean_df = female_mean_df.groupby(by = ['mouse', 'group', 'syllable']).mean()['usage'].reset_index()\n",
    "mean_df_lc = pd.pivot_table(temp_mean_df, values='usage', index=['group', 'mouse'], columns=['syllable']).reset_index().fillna(0)\n",
    "mice = mean_df_lc['mouse'].unique()\n",
    "cv_phase=[]\n",
    "for choose in mice:\n",
    "        curr = mean_df_lc[mean_df_lc['mouse'] == choose]\n",
    "        curr = curr.drop(['group','mouse'], axis=1).to_numpy()\n",
    "        sys=np.nanstd(np.array(curr), axis=0)\n",
    "        sym=np.nanmean(np.array(curr), axis=0)\n",
    "        cv_phase.append(sys/sym)\n",
    "mean_cv_phase = np.mean(cv_phase,axis=0)"
   ]
  },
  {
   "cell_type": "markdown",
   "id": "b976f2dd",
   "metadata": {},
   "source": [
    "## plot cv"
   ]
  },
  {
   "cell_type": "code",
   "execution_count": 10,
   "id": "039fe750",
   "metadata": {},
   "outputs": [],
   "source": [
    "# create dataframe and save for female\n",
    "cv = np.concatenate((np.array(cv_indv),\n",
    "                      np.array(mean_cv_phase)))\n",
    "groups = np.concatenate((len(np.array(cv_indv)) * ['indv'],\n",
    "                         len(np.array(mean_cv_phase)) * ['phase']))\n",
    "cvdata = {'cv': list(cv), \n",
    "           'Groups': list(groups)}\n",
    "df = pd.DataFrame(cvdata)"
   ]
  },
  {
   "cell_type": "code",
   "execution_count": 11,
   "id": "f4ed3079",
   "metadata": {},
   "outputs": [
    {
     "data": {
      "image/png": "[encoded data removed]",
      "text/plain": [
       "<Figure size 200x400 with 1 Axes>"
      ]
     },
     "metadata": {
      "needs_background": "light"
     },
     "output_type": "display_data"
    }
   ],
   "source": [
    "#### plot distributions#####\n",
    "fig = plt.figure(figsize=(1, 2))\n",
    "fig.dpi = 200\n",
    "ax = sns.boxplot(data=df, showfliers=False, showcaps=False,x=\"Groups\",y=\"cv\",order=['phase','indv'],palette = cmap2)\n",
    "plt.xticks(ticks=[0, 1], labels=['phase', 'inter-indv'], rotation=90)\n",
    "ax.set(ylabel='CV')\n",
    "plt.ylim([0,0.7])\n",
    "sns.despine()\n",
    "fig.savefig(data_loc +'female_cv_boxplot.pdf', bbox_inches='tight')"
   ]
  },
  {
   "cell_type": "code",
   "execution_count": 12,
   "id": "2c8ef1c1",
   "metadata": {},
   "outputs": [
    {
     "name": "stdout",
     "output_type": "stream",
     "text": [
      "wilcoxon\n",
      "kld p value: 7.72257004802757e-09\n",
      "kld T statistics: 32.0\n"
     ]
    }
   ],
   "source": [
    "print('wilcoxon')\n",
    "ivsp= stats.wilcoxon(df[df.Groups=='indv'].cv, df[df.Groups=='phase'].cv, alternative='two-sided')\n",
    "print('kld p value:', ivsp.pvalue)\n",
    "print('kld T statistics:', ivsp.statistic)"
   ]
  }
 ],
 "metadata": {
  "kernelspec": {
   "display_name": "Python 3",
   "language": "python",
   "name": "python3"
  },
  "language_info": {
   "codemirror_mode": {
    "name": "ipython",
    "version": 3
   },
   "file_extension": ".py",
   "mimetype": "text/x-python",
   "name": "python",
   "nbconvert_exporter": "python",
   "pygments_lexer": "ipython3",
   "version": "3.7.10"
  },
  "widgets": {
   "application/vnd.jupyter.widget-state+json": {
    "state": {},
    "version_major": 2,
    "version_minor": 0
   }
  }
 },
 "nbformat": 4,
 "nbformat_minor": 5
}
