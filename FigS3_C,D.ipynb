{
 "cells": [
  {
   "cell_type": "markdown",
   "id": "8c932cb4",
   "metadata": {},
   "source": [
    "imports and data update\n",
    "-----------"
   ]
  },
  {
   "cell_type": "code",
   "execution_count": 1,
   "id": "a9def74a",
   "metadata": {},
   "outputs": [],
   "source": [
    "import numpy as np\n",
    "import seaborn as sns\n",
    "import pandas as pd\n",
    "import matplotlib.pyplot as plt\n",
    "import warnings\n",
    "warnings.filterwarnings(\"ignore\", category=DeprecationWarning) \n",
    "warnings.simplefilter('ignore')\n",
    "import os\n",
    "from scipy import stats\n",
    "import colorcet as cc\n",
    "import scipy\n",
    "import statsmodels.api as sm\n",
    "from statsmodels.formula.api import ols\n",
    "%matplotlib inline"
   ]
  },
  {
   "cell_type": "code",
   "execution_count": 2,
   "id": "e62da8a9",
   "metadata": {},
   "outputs": [],
   "source": [
    "# upload data\n",
    "cpath = os.getcwd() #assumes mean_df_females is in the same path as the notebook\n",
    "female_mean_df = pd.read_csv(cpath+'/mean_df_female.csv')\n",
    "female_mean_df = female_mean_df[female_mean_df['rep']!=1] #balance female/male dataset\n",
    "female_mean_df['rep'] = female_mean_df['rep']-1 # rename repetitions\n",
    "male_mean_df = pd.read_csv(cpath+'/mean_df_male.csv')"
   ]
  },
  {
   "cell_type": "code",
   "execution_count": 3,
   "id": "3007232f",
   "metadata": {},
   "outputs": [
    {
     "name": "stdout",
     "output_type": "stream",
     "text": [
      "[1, 2, 3, 4, 5, 6, 7]\n",
      "[8, 9, 10, 11, 12, 13, 14]\n"
     ]
    }
   ],
   "source": [
    "# use first half of female data and second half of male data\n",
    "female_mean_df = female_mean_df[female_mean_df['rep']<8]\n",
    "print(sorted(female_mean_df.rep.unique()))\n",
    "male_mean_df = male_mean_df[male_mean_df['rep']>7]\n",
    "print(sorted(male_mean_df.rep.unique()))"
   ]
  },
  {
   "cell_type": "markdown",
   "id": "be731f53",
   "metadata": {},
   "source": [
    "# ----------------------------------------------------------------------- \n",
    "# ANALYSIS\n",
    "# -----------------------------------------------------------------------"
   ]
  },
  {
   "cell_type": "code",
   "execution_count": 4,
   "id": "df22d2e9",
   "metadata": {},
   "outputs": [],
   "source": [
    "# plot/colors definitions\n",
    "data_loc=cpath+'/figs/'\n",
    "try:\n",
    "    os.mkdir(data_loc)\n",
    "except FileExistsError:\n",
    "    # directory already exists\n",
    "    pass\n",
    "\n",
    "plt.style.use(\"seaborn-paper\")\n",
    "cmap2= ['#6C6295','#FBB040']"
   ]
  },
  {
   "cell_type": "markdown",
   "id": "a5f9c0ec",
   "metadata": {},
   "source": [
    "## functions"
   ]
  },
  {
   "cell_type": "code",
   "execution_count": 5,
   "id": "b22687e8",
   "metadata": {},
   "outputs": [],
   "source": [
    "def KLD_analysis(frequencies):\n",
    "    '''rows are sessions (or mice/phases), columns are variables (syllables)'''\n",
    "    cohort_dist=np.zeros((len(frequencies),len(frequencies)),dtype=float)\n",
    "    x=0\n",
    "    y=0\n",
    "    for i in frequencies:\n",
    "        for j in frequencies:\n",
    "            i[i==0]=.0000000001\n",
    "            j[j==0]=.0000000001\n",
    "            cohort_dist[x,y]=scipy.stats.entropy(pk=np.array(i), qk=np.array(j))\n",
    "            y=y+1\n",
    "        y=0\n",
    "        x=x+1\n",
    "    return cohort_dist"
   ]
  },
  {
   "cell_type": "markdown",
   "id": "3544e620",
   "metadata": {},
   "source": [
    "## KLD analysis females"
   ]
  },
  {
   "cell_type": "code",
   "execution_count": 6,
   "id": "3a9ca589",
   "metadata": {},
   "outputs": [],
   "source": [
    "# KLD between mice (average syllable use per mouse)\n",
    "mm=[]\n",
    "temp_mean_df= female_mean_df.groupby(by = ['mouse', 'syllable']).mean()['usage'].reset_index()\n",
    "mean_df_lc = pd.pivot_table(temp_mean_df, values='usage', index=['mouse'], columns=['syllable']).reset_index().fillna(0)\n",
    "mm=mean_df_lc.drop(['mouse'], axis=1).to_numpy()\n",
    "KLD_indv = KLD_analysis(mm)\n",
    "mean_kld_indv = np.mean(KLD_indv,axis=0)\n",
    "\n",
    "# KLD between repetitions (within mouse)\n",
    "temp_mean_df = female_mean_df.groupby(by = ['mouse', 'rep', 'syllable']).mean()['usage'].reset_index()\n",
    "mean_df_lc = pd.pivot_table(temp_mean_df, values='usage', index=['mouse','rep'], columns=['syllable']).reset_index().fillna(0)\n",
    "\n",
    "mean_kld_rep=[]\n",
    "mice = mean_df_lc['mouse'].unique()\n",
    "for choose in mice:\n",
    "        curr = mean_df_lc[mean_df_lc['mouse'] == choose]\n",
    "        curr = curr.drop(['mouse','rep'], axis=1).to_numpy()\n",
    "        KLD_phase = KLD_analysis(curr)\n",
    "        mean_kld_rep.append(np.mean(KLD_phase))\n",
    "\n",
    "# for all sessions\n",
    "mean_kld_all=[]\n",
    "data_all=mean_df_lc.drop(['mouse','rep'], axis=1).to_numpy()\n",
    "kld_all=KLD_analysis(data_all)\n",
    "mean_kld_all = np.mean(kld_all,axis=0)\n",
    "mean_kld_all = np.mean(kld_all,axis=0)"
   ]
  },
  {
   "cell_type": "code",
   "execution_count": 7,
   "id": "58bcf008",
   "metadata": {},
   "outputs": [],
   "source": [
    "# create dataframe for plotting\n",
    "kld = np.concatenate((np.array(mean_kld_all),\n",
    "                      np.array(mean_kld_indv),\n",
    "                      np.array(mean_kld_rep)))\n",
    "groups = np.concatenate((len(np.array(mean_kld_all)) * ['fall'],\n",
    "                         len(np.array(mean_kld_indv)) * ['finter-indv'],\n",
    "                         len(np.array(mean_kld_rep)) * ['fintra-indv']))\n",
    "sex= len(kld) * ['female']\n",
    "\n",
    "fklddata = {'KLD': list(kld), \n",
    "           'groups': list(groups),\n",
    "           'sex':list(sex)}\n",
    "# Create DataFrame\n",
    "fdf = pd.DataFrame(fklddata)\n",
    "fdf = fdf[(fdf != 0).all(1)] # remove self distance"
   ]
  },
  {
   "cell_type": "markdown",
   "id": "d4841d44",
   "metadata": {},
   "source": [
    "## KLD analysis males"
   ]
  },
  {
   "cell_type": "code",
   "execution_count": 8,
   "id": "d851b0ce",
   "metadata": {},
   "outputs": [],
   "source": [
    "# KLD between mice (average syllable use per mouse)\n",
    "mm=[]\n",
    "temp_mean_df= male_mean_df.groupby(by = ['mouse', 'syllable']).mean()['usage'].reset_index()\n",
    "mean_df_lc = pd.pivot_table(temp_mean_df, values='usage', index=['mouse'], columns=['syllable']).reset_index().fillna(0)\n",
    "mm=mean_df_lc.drop(['mouse'], axis=1).to_numpy()\n",
    "KLD_indv = KLD_analysis(mm)\n",
    "mean_kld_indv = np.mean(KLD_indv,axis=0)\n",
    "\n",
    "# KLD between repetitions (within mouse)\n",
    "temp_mean_df = male_mean_df.groupby(by = ['mouse', 'rep', 'syllable']).mean()['usage'].reset_index()\n",
    "mean_df_lc = pd.pivot_table(temp_mean_df, values='usage', index=['mouse','rep'], columns=['syllable']).reset_index().fillna(0)\n",
    "\n",
    "mean_kld_rep=[]\n",
    "mice = mean_df_lc['mouse'].unique()\n",
    "for choose in mice:\n",
    "        curr = mean_df_lc[mean_df_lc['mouse'] == choose]\n",
    "        curr = curr.drop(['mouse','rep'], axis=1).to_numpy()\n",
    "        KLD_phase = KLD_analysis(curr)\n",
    "        mean_kld_rep.append(np.mean(KLD_phase))\n",
    "\n",
    "# for all sessions\n",
    "mean_kld_all=[]\n",
    "data_all=mean_df_lc.drop(['mouse','rep'], axis=1).to_numpy()\n",
    "kld_all=KLD_analysis(data_all)\n",
    "mean_kld_all = np.mean(kld_all,axis=0)"
   ]
  },
  {
   "cell_type": "code",
   "execution_count": 9,
   "id": "d50364f6",
   "metadata": {},
   "outputs": [],
   "source": [
    "# create dataframe for plotting\n",
    "kld = np.concatenate((np.array(mean_kld_all),\n",
    "                      np.array(mean_kld_indv),\n",
    "                      np.array(mean_kld_rep)))\n",
    "groups = np.concatenate((len(np.array(mean_kld_all)) * ['mall'],\n",
    "                         len(np.array(mean_kld_indv)) * ['minter-indv'],\n",
    "                         len(np.array(mean_kld_rep)) * ['mintra-indv']))\n",
    "sex= len(kld) * ['male']\n",
    "mklddata = {'KLD': list(kld), \n",
    "           'groups': list(groups),\n",
    "           'sex':list(sex)}\n",
    "mdf = pd.DataFrame(mklddata)\n",
    "mdf = mdf[(mdf != 0).all(1)] # remove self distance"
   ]
  },
  {
   "cell_type": "markdown",
   "id": "f0ef5111",
   "metadata": {},
   "source": [
    "Compare male and female KLD\n",
    "----------"
   ]
  },
  {
   "cell_type": "code",
   "execution_count": 10,
   "id": "6ddbc8af",
   "metadata": {},
   "outputs": [
    {
     "data": {
      "image/png": "[encoded data removed]",
      "text/plain": [
       "<Figure size 800x600 with 1 Axes>"
      ]
     },
     "metadata": {
      "needs_background": "light"
     },
     "output_type": "display_data"
    }
   ],
   "source": [
    "#### plot all\n",
    "klds = pd.concat([mdf,fdf])\n",
    "klds['exp'] = klds.groups.str[1:]\n",
    "\n",
    "# boxplot\n",
    "fig = plt.figure(figsize=(4,3))\n",
    "fig.dpi = 200\n",
    "plt.ylim([0,0.7])\n",
    "ax = sns.boxplot(x=\"exp\",y=\"KLD\",data=klds, order=['all','intra-indv','inter-indv'],\n",
    "                 hue='sex', hue_order=[\"male\", \"female\"],\n",
    "                 showfliers=False, showcaps=False, palette = cmap2)\n",
    "ax.legend(bbox_to_anchor=(1.3, 1), loc='upper right', borderaxespad=0)\n",
    "\n",
    "fig.savefig(data_loc +'mf_kld_7days.pdf', bbox_inches='tight')"
   ]
  },
  {
   "cell_type": "markdown",
   "id": "25bde3be",
   "metadata": {},
   "source": [
    "## KLD statistics"
   ]
  },
  {
   "cell_type": "code",
   "execution_count": 11,
   "id": "4d30ad07",
   "metadata": {},
   "outputs": [
    {
     "name": "stdout",
     "output_type": "stream",
     "text": [
      "2-way anova\n",
      "                  sum_sq     df          F        PR(>F)\n",
      "C(sex)          2.083712    1.0  34.805171  1.183797e-08\n",
      "C(exp)          2.205182    2.0  18.417073  3.472260e-08\n",
      "C(sex):C(exp)   0.233149    2.0   1.947193  1.448403e-01\n",
      "Residual       14.907102  249.0        NaN           NaN\n",
      "ttest\n",
      "for all data:  3.631486632320103e-07\n",
      "for intra-indv:  0.05859731408393813\n",
      "for inter-indv:  9.681939338926372e-07\n"
     ]
    }
   ],
   "source": [
    "# statistics\n",
    "#2-way anova\n",
    "print ('2-way anova')\n",
    "#perform anova\n",
    "formula = 'KLD ~ C(sex) + C(exp) + C(sex):C(exp)'\n",
    "model = ols(formula, data=klds).fit()\n",
    "an_table=sm.stats.anova_lm(model, typ=2)\n",
    "print(an_table)\n",
    "\n",
    "print ('ttest')\n",
    "from scipy.stats import ttest_ind\n",
    "pvsp= ttest_ind (klds[klds.groups=='mall'].KLD, klds[klds.groups=='fall'].KLD, equal_var=False)\n",
    "print('for all data: ', str(pvsp.pvalue))\n",
    "pvsp= ttest_ind (klds[klds.groups=='mintra-indv'].KLD, klds[klds.groups=='fintra-indv'].KLD, equal_var=False)\n",
    "print('for intra-indv: ', str(pvsp.pvalue))\n",
    "pvsp= ttest_ind (klds[klds.groups=='minter-indv'].KLD, klds[klds.groups=='finter-indv'].KLD, equal_var=False)\n",
    "print('for inter-indv: ', str(pvsp.pvalue))"
   ]
  },
  {
   "cell_type": "markdown",
   "id": "b76314ea",
   "metadata": {},
   "source": [
    "# CV females"
   ]
  },
  {
   "cell_type": "code",
   "execution_count": 12,
   "id": "9361613f",
   "metadata": {},
   "outputs": [],
   "source": [
    "# CV between mice (average syllable use per mouse)\n",
    "mm=[]\n",
    "temp_mean_df= female_mean_df.groupby(by = ['mouse', 'syllable']).mean()['usage'].reset_index()\n",
    "mean_df_lc = pd.pivot_table(temp_mean_df, values='usage', index=['mouse'], columns=['syllable']).reset_index().fillna(0)\n",
    "mm=mean_df_lc.drop(['mouse'], axis=1).to_numpy()\n",
    "sys=np.nanstd(np.array(mm), axis=0)\n",
    "sym=np.nanmean(np.array(mm), axis=0)\n",
    "cv_indv=sys/sym # each syllable will have a cv value\n",
    "\n",
    "# CV between repetitions (within mouse)\n",
    "cv_rep=[]\n",
    "temp_mean_df = female_mean_df.groupby(by = ['mouse', 'rep', 'syllable']).mean()['usage'].reset_index()\n",
    "mean_df_lc = pd.pivot_table(temp_mean_df, values='usage', index=['mouse','rep'], columns=['syllable']).reset_index().fillna(0)\n",
    "mice = mean_df_lc['mouse'].unique()\n",
    "for choose in mice:\n",
    "    curr = mean_df_lc[mean_df_lc['mouse'] == choose]\n",
    "    curr = curr.drop(['mouse','rep'], axis=1).to_numpy()\n",
    "    sys=np.nanstd(np.array(curr), axis=0)\n",
    "    sym=np.nanmean(np.array(curr), axis=0)\n",
    "    cv_rep.append(sys/sym)\n",
    "mean_cv_rep = np.mean(cv_rep,axis=0)\n",
    "\n",
    "# for all sessions\n",
    "mean_kld_all=[]\n",
    "data_all=mean_df_lc.drop(['mouse','rep'], axis=1).to_numpy()\n",
    "cv_all=np.nanstd(np.array(data_all), axis=0)/np.nanmean(np.array(data_all), axis=0)"
   ]
  },
  {
   "cell_type": "code",
   "execution_count": 13,
   "id": "039fe750",
   "metadata": {},
   "outputs": [],
   "source": [
    "# create dataframe for plotting\n",
    "cv = np.concatenate((np.array(cv_all),\n",
    "                      np.array(cv_indv),\n",
    "                      np.array(mean_cv_rep)))\n",
    "groups = np.concatenate((len(np.array(cv_all)) * ['fall'],\n",
    "                         len(np.array(cv_indv)) * ['finter-indv'],\n",
    "                         len(np.array(mean_cv_rep)) * ['fintra-indv']))\n",
    "sex= len(cv) * ['female']\n",
    "fcvdata = {'cv': list(cv),\n",
    "           'sex':list(sex),\n",
    "           'groups': list(groups)}\n",
    "fcvdf = pd.DataFrame(fcvdata)"
   ]
  },
  {
   "cell_type": "markdown",
   "id": "24b93878",
   "metadata": {},
   "source": [
    "# CV males"
   ]
  },
  {
   "cell_type": "code",
   "execution_count": 14,
   "id": "85aca412",
   "metadata": {},
   "outputs": [],
   "source": [
    "# CV between mice (average syllable use per mouse)\n",
    "mm=[]\n",
    "temp_mean_df= male_mean_df.groupby(by = ['mouse', 'syllable']).mean()['usage'].reset_index()\n",
    "mean_df_lc = pd.pivot_table(temp_mean_df, values='usage', index=['mouse'], columns=['syllable']).reset_index().fillna(0)\n",
    "mm=mean_df_lc.drop(['mouse'], axis=1).to_numpy()\n",
    "sys=np.nanstd(np.array(mm), axis=0)\n",
    "sym=np.nanmean(np.array(mm), axis=0)\n",
    "cv_indv=sys/sym # each syllable will have a cv value\n",
    "\n",
    "# CV between repetitions (within mouse)\n",
    "cv_rep=[]\n",
    "temp_mean_df = male_mean_df.groupby(by = ['mouse', 'rep', 'syllable']).mean()['usage'].reset_index()\n",
    "mean_df_lc = pd.pivot_table(temp_mean_df, values='usage', index=['mouse','rep'], columns=['syllable']).reset_index().fillna(0)\n",
    "mice = mean_df_lc['mouse'].unique()\n",
    "for choose in mice:\n",
    "    curr = mean_df_lc[mean_df_lc['mouse'] == choose]\n",
    "    curr = curr.drop(['mouse','rep'], axis=1).to_numpy()\n",
    "    sys=np.nanstd(np.array(curr), axis=0)\n",
    "    sym=np.nanmean(np.array(curr), axis=0)\n",
    "    cv_rep.append(sys/sym)\n",
    "mean_cv_rep = np.mean(cv_rep,axis=0)\n",
    "\n",
    "# for all sessions\n",
    "mean_kld_all=[]\n",
    "data_all=mean_df_lc.drop(['mouse','rep'], axis=1).to_numpy()\n",
    "cv_all=np.nanstd(np.array(data_all), axis=0)/np.nanmean(np.array(data_all), axis=0)"
   ]
  },
  {
   "cell_type": "code",
   "execution_count": 15,
   "id": "391cf023",
   "metadata": {},
   "outputs": [],
   "source": [
    "# create dataframe and save for female\n",
    "cv = np.concatenate((np.array(cv_all),\n",
    "                      np.array(cv_indv),\n",
    "                      np.array(mean_cv_rep)))\n",
    "groups = np.concatenate((len(np.array(cv_all)) * ['mall'],\n",
    "                         len(np.array(cv_indv)) * ['minter-indv'],\n",
    "                         len(np.array(mean_cv_rep)) * ['mintra-indv']))\n",
    "sex= len(cv) * ['male']\n",
    "mcvdata = {'cv': list(cv), \n",
    "           'sex':list(sex),\n",
    "           'groups': list(groups)}\n",
    "# Create DataFrame\n",
    "mcvdf = pd.DataFrame(mcvdata)"
   ]
  },
  {
   "cell_type": "markdown",
   "id": "a33d3b1d",
   "metadata": {},
   "source": [
    "# compare males and females CV"
   ]
  },
  {
   "cell_type": "code",
   "execution_count": 16,
   "id": "7f8d5426",
   "metadata": {},
   "outputs": [
    {
     "data": {
      "image/png": "[encoded data removed]",
      "text/plain": [
       "<Figure size 800x600 with 1 Axes>"
      ]
     },
     "metadata": {
      "needs_background": "light"
     },
     "output_type": "display_data"
    }
   ],
   "source": [
    "#### plot all\n",
    "cvs = pd.concat([mcvdf,fcvdf])\n",
    "cvs['exp'] = cvs.groups.str[1:]\n",
    "\n",
    "# boxplot\n",
    "fig = plt.figure(figsize=(4,3))\n",
    "fig.dpi = 200\n",
    "plt.ylim([0,1.1])\n",
    "ax = sns.boxplot(x=\"exp\",y=\"cv\",data=cvs, order=['all','intra-indv','inter-indv'],\n",
    "                 hue='sex', hue_order=[\"male\", \"female\"],\n",
    "                 showfliers=False, showcaps=False,palette = cmap2)\n",
    "ax.legend(bbox_to_anchor=(1.3, 1), loc='upper right', borderaxespad=0)\n",
    "fig.savefig(data_loc +'mf_cv_7days.pdf', bbox_inches='tight')"
   ]
  },
  {
   "cell_type": "code",
   "execution_count": 17,
   "id": "48f07699",
   "metadata": {},
   "outputs": [
    {
     "name": "stdout",
     "output_type": "stream",
     "text": [
      "2-way anova\n",
      "                 sum_sq     df          F        PR(>F)\n",
      "C(sex)         0.776756    1.0  31.743366  4.186698e-08\n",
      "C(exp)         2.763351    2.0  56.464381  2.045688e-21\n",
      "C(sex):C(exp)  0.085503    2.0   1.747113  1.761182e-01\n",
      "Residual       7.047320  288.0        NaN           NaN\n",
      "ttest\n",
      "for all data:  0.0009521242170266346\n",
      "for intra indv:  0.012846444262019535\n",
      "for inter indv:  0.0003004494766345169\n"
     ]
    }
   ],
   "source": [
    "# statistics\n",
    "print ('2-way anova')\n",
    "#perform anova\n",
    "formula = 'cv ~ C(sex) + C(exp) + C(sex):C(exp)'\n",
    "model = ols(formula, data=cvs).fit()\n",
    "an_table=sm.stats.anova_lm(model, typ=2)\n",
    "print(an_table)\n",
    "\n",
    "print ('ttest')\n",
    "from scipy.stats import ttest_ind\n",
    "pvsp= ttest_ind (cvs[cvs.groups=='mall'].cv, cvs[cvs.groups=='fall'].cv, equal_var=False)\n",
    "print('for all data: ', str(pvsp.pvalue))\n",
    "pvsp= ttest_ind (cvs[cvs.groups=='mintra-indv'].cv, cvs[cvs.groups=='fintra-indv'].cv, equal_var=False)\n",
    "print('for intra indv: ', str(pvsp.pvalue))\n",
    "pvsp= ttest_ind (cvs[cvs.groups=='minter-indv'].cv, cvs[cvs.groups=='finter-indv'].cv, equal_var=False)\n",
    "print('for inter indv: ', str(pvsp.pvalue))"
   ]
  }
 ],
 "metadata": {
  "kernelspec": {
   "display_name": "Python 3",
   "language": "python",
   "name": "python3"
  },
  "language_info": {
   "codemirror_mode": {
    "name": "ipython",
    "version": 3
   },
   "file_extension": ".py",
   "mimetype": "text/x-python",
   "name": "python",
   "nbconvert_exporter": "python",
   "pygments_lexer": "ipython3",
   "version": "3.7.10"
  },
  "widgets": {
   "application/vnd.jupyter.widget-state+json": {
    "state": {},
    "version_major": 2,
    "version_minor": 0
   }
  }
 },
 "nbformat": 4,
 "nbformat_minor": 5
}
