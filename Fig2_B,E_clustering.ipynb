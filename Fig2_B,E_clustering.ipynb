{
 "cells": [
  {
   "cell_type": "markdown",
   "id": "8c932cb4",
   "metadata": {},
   "source": [
    "imports and data uploads\n",
    "-----------"
   ]
  },
  {
   "cell_type": "code",
   "execution_count": 6,
   "id": "a9def74a",
   "metadata": {},
   "outputs": [],
   "source": [
    "import numpy as np\n",
    "import seaborn as sns\n",
    "import pandas as pd\n",
    "import matplotlib.pyplot as plt\n",
    "import warnings\n",
    "warnings.filterwarnings(\"ignore\", category=DeprecationWarning) \n",
    "warnings.simplefilter('ignore')\n",
    "import os\n",
    "from scipy import stats\n",
    "import colorcet as cc\n",
    "import scipy\n",
    "from sklearn.cluster import KMeans\n",
    "from sklearn.preprocessing import StandardScaler\n",
    "from sklearn.metrics import adjusted_rand_score\n",
    "%matplotlib inline"
   ]
  },
  {
   "cell_type": "code",
   "execution_count": 7,
   "id": "df736a1c",
   "metadata": {},
   "outputs": [],
   "source": [
    "# upload data\n",
    "cpath = os.getcwd() #assumes mean_df_females is in the same path as the notebook\n",
    "mean_df = pd.read_csv(cpath+'/mean_df_female.csv')"
   ]
  },
  {
   "cell_type": "markdown",
   "id": "b7131dc4",
   "metadata": {},
   "source": [
    "# ----------------------------------------------------------------------- \n",
    "# ANALYSIS\n",
    "# -----------------------------------------------------------------------"
   ]
  },
  {
   "cell_type": "code",
   "execution_count": 8,
   "id": "851e6468",
   "metadata": {},
   "outputs": [],
   "source": [
    "# prepare data\n",
    "data = mean_df.groupby(by = ['mouse', 'group','rep','syllable']).mean()['usage'].reset_index()\n",
    "data = pd.pivot_table(data, values='usage', index=['mouse','group','rep'], columns=['syllable']).reset_index().fillna(0)\n",
    "data_umap = data.drop(['mouse','group','rep'], axis=1).to_numpy()\n",
    "data_umap_labels = data['mouse'].to_numpy()"
   ]
  },
  {
   "cell_type": "markdown",
   "id": "2c69a501",
   "metadata": {},
   "source": [
    "## clustering analysis"
   ]
  },
  {
   "cell_type": "code",
   "execution_count": 9,
   "id": "24bb85ce",
   "metadata": {},
   "outputs": [
    {
     "name": "stdout",
     "output_type": "stream",
     "text": [
      "ARI for clustering by indvidual 0.4344142768774923\n"
     ]
    }
   ],
   "source": [
    "# clustering for individuals\n",
    "frequencies = data_umap\n",
    "\n",
    "#scaling the data\n",
    "scaler = StandardScaler()\n",
    "scaled_features = scaler.fit_transform(frequencies)\n",
    "\n",
    "nclust=16 #for 16 individuals\n",
    "kmeans_kwargs = {\"init\": \"random\",\n",
    "                \"n_init\": 10,\n",
    "                \"max_iter\": 300,\n",
    "                \"random_state\":10}\n",
    "\n",
    "kmeans = KMeans(n_clusters=nclust, **kmeans_kwargs)\n",
    "kmeans.fit_predict(scaled_features)\n",
    "\n",
    "# The actual labels\n",
    "clust_labels_indv = kmeans.labels_\n",
    "\n",
    "# explore goodness of fit to true labels of indv mice\n",
    "_, idx = np.unique(clust_labels_indv, return_index=True) #unique labels by clustering\n",
    "clust_labels = clust_labels_indv[np.sort(idx)]\n",
    "\n",
    "# prepare data\n",
    "mouse_true_labels = np.unique(data['mouse'].to_numpy()) #unique labels by mice in exp\n",
    "new_mouse_labels = data['mouse'].to_numpy().copy() # all labels of mice in expetiment\n",
    "\n",
    "#change eacn label in mouse to corresponding label in cluster labels\n",
    "for i in range(len(mouse_true_labels)): \n",
    "    new_mouse_labels[new_mouse_labels==mouse_true_labels[i]] = clust_labels[i]\n",
    "\n",
    "clust_labels_indv_str =list(map(str,clust_labels_indv)) # turn clusters into string labels\n",
    "\n",
    "# accuracy of clustering scores:\n",
    "ari_kmeans = adjusted_rand_score(new_mouse_labels, clust_labels_indv_str)\n",
    "print('ARI for clustering by indvidual '+str(ari_kmeans))"
   ]
  },
  {
   "cell_type": "code",
   "execution_count": 10,
   "id": "baa44caa",
   "metadata": {},
   "outputs": [
    {
     "name": "stdout",
     "output_type": "stream",
     "text": [
      "ARI for clustering by phase 0.030187207225155353\n"
     ]
    }
   ],
   "source": [
    "## clustering for phase\n",
    "nclust=4 # for 4 estrous phases\n",
    "kmeans_kwargs = {\"init\": \"random\",\n",
    "                \"n_init\": 10,\n",
    "                \"max_iter\": 300,\n",
    "                \"random_state\":3} \n",
    "\n",
    "kmeans = KMeans(n_clusters=nclust, **kmeans_kwargs)\n",
    "kmeans.fit_predict(scaled_features)\n",
    "\n",
    "# The actual labels\n",
    "clust_labels_phase = kmeans.labels_\n",
    "\n",
    "# explore goodness of fit to true labels of phase\n",
    "_, idx = np.unique(clust_labels_phase, return_index=True) #unique labels by clustering\n",
    "clust_labels = clust_labels_phase[np.sort(idx)]\n",
    "\n",
    "# prepare data\n",
    "phase_true_labels = np.unique(data['group'].to_numpy()) #unique labels by mice in exp\n",
    "new_phase_labels = data['group'].to_numpy().copy() # all labels of mice in expetiment\n",
    "\n",
    "#change eacn label in phase to corresponding label in cluster labels\n",
    "for i in range(len(phase_true_labels)): \n",
    "    new_phase_labels[new_phase_labels==phase_true_labels[i]] = clust_labels[i]\n",
    "\n",
    "clust_labels_phase_str =list(map(str,clust_labels_phase)) # turn clusters into string labels\n",
    "\n",
    "# accuracy of clustering scores:\n",
    "ari_kmeans = adjusted_rand_score(new_phase_labels, clust_labels_phase_str)\n",
    "print('ARI for clustering by phase '+str(ari_kmeans))"
   ]
  }
 ],
 "metadata": {
  "kernelspec": {
   "display_name": "Python 3",
   "language": "python",
   "name": "python3"
  },
  "language_info": {
   "codemirror_mode": {
    "name": "ipython",
    "version": 3
   },
   "file_extension": ".py",
   "mimetype": "text/x-python",
   "name": "python",
   "nbconvert_exporter": "python",
   "pygments_lexer": "ipython3",
   "version": "3.7.10"
  },
  "widgets": {
   "application/vnd.jupyter.widget-state+json": {
    "state": {},
    "version_major": 2,
    "version_minor": 0
   }
  }
 },
 "nbformat": 4,
 "nbformat_minor": 5
}
