{
 "cells": [
  {
   "cell_type": "markdown",
   "metadata": {},
   "source": [
    "# imports"
   ]
  },
  {
   "cell_type": "code",
   "execution_count": 33,
   "metadata": {},
   "outputs": [],
   "source": [
    "import os\n",
    "import pickle\n",
    "import warnings\n",
    "from tqdm.auto import tqdm\n",
    "import pandas as pd\n",
    "import numpy as np\n",
    "import matplotlib.pyplot as plt\n",
    "import seaborn as sns\n",
    "from collections import defaultdict\n",
    "from os.path import join, dirname, abspath, basename\n",
    "from moseq2_app.gui.progress import update_progress, restore_progress_vars\n",
    "from moseq2_viz.model.util import relabel_by_usage, parse_model_results, compute_syllable_explained_variance\n",
    "from moseq2_viz.model.trans_graph import get_trans_graph_groups, get_group_trans_mats,  get_transition_matrix\n",
    "from moseq2_viz.util import parse_index, read_yaml\n",
    "from moseq2_viz.scalars.util import scalars_to_dataframe\n",
    "from moseq2_viz.model.util import compute_behavioral_statistics\n",
    "from sklearn.ensemble import RandomForestClassifier\n",
    "from sklearn.metrics import accuracy_score\n",
    "\n",
    "%matplotlib inline"
   ]
  },
  {
   "cell_type": "code",
   "execution_count": 21,
   "metadata": {},
   "outputs": [],
   "source": [
    "# plot/colors definitions\n",
    "cpath = os.getcwd() #assumes all files are in the same path as the notebook\n",
    "data_loc=cpath+'/figs/'\n",
    "try:\n",
    "    os.mkdir(data_loc)\n",
    "except FileExistsError:\n",
    "    # directory already exists\n",
    "    pass\n",
    "\n",
    "plt.style.use(\"seaborn-paper\")"
   ]
  },
  {
   "cell_type": "markdown",
   "metadata": {},
   "source": [
    "## generate permutation"
   ]
  },
  {
   "cell_type": "code",
   "execution_count": 22,
   "metadata": {},
   "outputs": [],
   "source": [
    "# add back labels\n",
    "index_data = read_yaml(cpath+'/moseq2-index.yaml')\n",
    "\n",
    "with open('uuid_include.pkl', 'rb') as f:\n",
    "    uuid_include = pickle.load(f)\n",
    "    \n",
    "uuid_cage = {}\n",
    "uuid_mouse = {}\n",
    "uuid_phase = {}\n",
    "for file in index_data['files']:\n",
    "    if file['uuid'] in uuid_include:\n",
    "        uuid_cage[file['uuid']] = file['metadata']['SubjectName'][:2]\n",
    "        uuid_mouse[file['uuid']] = file['metadata']['SubjectName'][:5]\n",
    "        uuid_phase[file['uuid']] = file['group']"
   ]
  },
  {
   "cell_type": "code",
   "execution_count": null,
   "metadata": {
    "scrolled": true
   },
   "outputs": [],
   "source": [
    "# syllable threshold defined above. Uncomment if you want to manually set\n",
    "max_syllables = 58\n",
    "\n",
    "# select a transition matrix normalization method\n",
    "normalize = 'bigram' # options: bigram, columns, rows\n",
    "\n",
    "# load your model\n",
    "model_path = cpath+'/model-001-none.p'\n",
    "model_data = parse_model_results(model_path)\n",
    "model_data['labels'] = relabel_by_usage(model_data['labels'], count='usage')[0]\n",
    "index_keep = [i for i, uuid in enumerate(model_data['keys']) if uuid in uuid_include]\n",
    "model_data['labels']=np.array(model_data['labels'])[index_keep]\n",
    "model_data['keys'] = np.array(model_data['keys'])[index_keep]\n",
    "model_data['train_ll'] = np.array(model_data['train_ll'])[index_keep]\n",
    "model_data['train_list'] = np.array(model_data['train_list'])[index_keep]\n",
    "model_data['metadata']['groups'] = uuid_phase\n",
    "\n",
    "def rle(array):\n",
    "    rle_array = [array[0]]\n",
    "    for i in range(1, len(array)):\n",
    "        if array[i] !=array[i-1]:\n",
    "            rle_array.append(array[i])\n",
    "    return rle_array\n",
    "\n",
    "model_uuids = model_data.get('train_list',model_data['keys'])\n",
    "label_group = [model_data['metadata']['groups'][k] for k in model_uuids]\n",
    "\n",
    "group = sorted([g for g in list(set(label_group)) if 'NA' not in g])\n",
    "\n",
    "rle_lbls = [np.array(rle(lbl)) for lbl in model_data['labels']]\n",
    "\n",
    "trans_mats_permutations = []\n",
    "rle_lbls_p = [np.array(rle(lbl))[1:] for lbl in model_data['labels']]\n",
    "\n",
    "for i in tqdm(range(2000)):\n",
    "    temp_array = []\n",
    "    for arr in rle_lbls:\n",
    "        temp_array.append(np.insert(np.random.permutation(arr), 0, -5))\n",
    "    trans_mats, _ = get_group_trans_mats(temp_array, label_group, group, max_syllables, normalize=normalize)\n",
    "    trans_mats_permutations.append(trans_mats)\n",
    "trans_mats_permutations = np.array(trans_mats_permutations)\n",
    "# np.save('tm_permute_58',trans_mats_permutations)\n"
   ]
  },
  {
   "cell_type": "markdown",
   "metadata": {},
   "source": [
    "## Find significant bigrams"
   ]
  },
  {
   "cell_type": "code",
   "execution_count": null,
   "metadata": {},
   "outputs": [],
   "source": [
    "#mice that have at least 3 phases and 10 repetitions each\n",
    "keep_mice = ['03_03', '02_01', '04_01', '01_03', '02_04', '01_01', '03_04', '04_02', '02_02', '04_03', '01_02', '03_01', '04_04', '02_03']\n",
    "\n",
    "# add back labels\n",
    "index_data = read_yaml(cpath+'/moseq2-index.yaml')\n",
    "\n",
    "uuid_cage = {}\n",
    "uuid_mouse = {}\n",
    "uuid_phase = {}\n",
    "for file in index_data['files']:\n",
    "    if file['uuid'] in uuid_include:\n",
    "        uuid_cage[file['uuid']] = file['metadata']['SubjectName'][:2]\n",
    "        uuid_mouse[file['uuid']] = file['metadata']['SubjectName'][:5]\n",
    "        uuid_phase[file['uuid']] = file['group']\n",
    "\n",
    "uuid_include = [k for k, v in uuid_mouse.items() if v in keep_mice]\n",
    "\n",
    "# syllable threshold defined above. Uncomment isf you want to manually set\n",
    "max_syllables = 58\n",
    "# max_syllables = 40\n",
    "\n",
    "# select a transition matrix normalization method\n",
    "normalize = 'bigram' # options: bigram, columns, rows\n",
    "\n",
    "# load your model\n",
    "model_path = cpath+'/model-001-none.p'\n",
    "model_data = parse_model_results(model_path)\n",
    "model_data['labels'] = relabel_by_usage(model_data['labels'], count='usage')[0]\n",
    "index_keep = [i for i, uuid in enumerate(model_data['keys']) if uuid in uuid_include]\n",
    "model_data['labels']=np.array(model_data['labels'])[index_keep]\n",
    "model_data['keys'] = np.array(model_data['keys'])[index_keep]\n",
    "model_data['train_ll'] = np.array(model_data['train_ll'])[index_keep]\n",
    "model_data['train_list'] = np.array(model_data['train_list'])[index_keep]\n",
    "model_data['metadata']['groups'] = uuid_phase\n",
    "\n",
    "mouse_data = [uuid_mouse[k] for k in model_data['keys']]\n",
    "phase_data = [uuid_phase[k] for k in model_data['keys']]\n",
    "\n",
    "# apply run-length encoding to the labels\n",
    "model_uuids = model_data.get('train_list',model_data['keys'])\n",
    "label_group = [model_data['metadata']['groups'][k] for k in model_uuids]\n",
    "group = sorted([g for g in list(set(label_group)) if 'NA' not in g])\n",
    "rle_lbls = [np.array(rle(lbl)) for lbl in model_data['labels']]\n",
    "\n",
    "# loading pre-computed permutation results\n",
    "trans_mats_permutations = np.load(cpath+'/tm_permute_58.npy')\n",
    "\n",
    "trans_mats_permutations = np.mean(trans_mats_permutations, axis = 1)\n",
    "\n",
    "tm_std = np.std(trans_mats_permutations, axis = 0) *2\n",
    "tm_mean = np.mean(trans_mats_permutations, axis= 0)\n",
    "\n",
    "tm_mean_plus = tm_mean + tm_std\n",
    "tm_mean_minus = tm_mean - tm_std\n",
    "\n",
    "trans_mats, usages = get_group_trans_mats(rle_lbls, label_group, group, max_syllables, normalize=normalize)\n",
    "tm_real = np.array(trans_mats)\n",
    "\n",
    "significant_tm = np.any([tm_real >= tm_mean_plus, tm_real <=tm_mean_minus], axis=0).astype(int)\n",
    "tm_real_mean = np.mean(tm_real, axis = 0)\n",
    "significant_tm_overall = np.any([tm_real_mean >= tm_mean_plus,  tm_real_mean <= tm_mean_minus], axis = 0)\n",
    "\n",
    "select = [0, 1, 2, 3, 4, 5, 6, 7, 8, 9,\n",
    "          10,11,12,13,14,15,16,17,18,19,\n",
    "          20,21,22,23,24,25,26,27,28,29,\n",
    "          30,31,32,33,34,35,36,37,38,39,\n",
    "          40,41,42,43,44,45,46,47,49] # syllable 49 is refered to in the manuscript and mean_df_female as 48 for clarity\n",
    "\n",
    "tm_data_sig = []\n",
    "y = []\n",
    "for index, label in enumerate(model_data['labels']):\n",
    "    tm = get_transition_matrix(label)[0][:max_syllables, :max_syllables]\n",
    "    y.append(label_group[index])\n",
    "    tm = tm * significant_tm_overall\n",
    "    tm = tm[select][:, select]\n",
    "    tm_data_sig.append(tm)\n",
    "    \n",
    "tm_data_sig = np.array(tm_data_sig)\n",
    "tm_data_sig = np.reshape(tm_data_sig, (len(uuid_include), 49*49))\n",
    "tm_data_sig =tm_data_sig/tm_data_sig.sum(1)[:,np.newaxis]\n",
    "print(np.sum(tm_data_sig), np.all(np.isnan(tm_data_sig)))\n",
    "tm_data_sig = pd.DataFrame(tm_data_sig)\n",
    "tm_data_sig['group'] = phase_data\n",
    "tm_data_sig['mouse'] = mouse_data\n"
   ]
  },
  {
   "cell_type": "markdown",
   "metadata": {},
   "source": [
    "## decode phase"
   ]
  },
  {
   "cell_type": "code",
   "execution_count": 35,
   "metadata": {},
   "outputs": [],
   "source": [
    "it=1000\n",
    "leave = 'mouse'\n",
    "predict='group'\n",
    "minum=10"
   ]
  },
  {
   "cell_type": "code",
   "execution_count": 36,
   "metadata": {},
   "outputs": [
    {
     "data": {
      "application/vnd.jupyter.widget-view+json": {
       "model_id": "c79f51a7f5c74224be764493228431da",
       "version_major": 2,
       "version_minor": 0
      },
      "text/plain": [
       "HBox(children=(FloatProgress(value=0.0, max=10.0), HTML(value='')))"
      ]
     },
     "metadata": {},
     "output_type": "display_data"
    },
    {
     "name": "stdout",
     "output_type": "stream",
     "text": [
      "\n"
     ]
    },
    {
     "data": {
      "application/vnd.jupyter.widget-view+json": {
       "model_id": "103301e22ec1453b84ca3dde45d5c7f1",
       "version_major": 2,
       "version_minor": 0
      },
      "text/plain": [
       "HBox(children=(FloatProgress(value=0.0, max=10.0), HTML(value='')))"
      ]
     },
     "metadata": {},
     "output_type": "display_data"
    },
    {
     "name": "stdout",
     "output_type": "stream",
     "text": [
      "\n"
     ]
    }
   ],
   "source": [
    "#decoder\n",
    "clf = RandomForestClassifier(n_estimators = 250,class_weight='balanced')\n",
    "out = defaultdict(list)\n",
    "for i in tqdm(range(it)):\n",
    "    sm = tm_data_sig\n",
    "    a,b= [],[]\n",
    "    for leaveout in sm[leave].unique():\n",
    "        train = sm[sm[leave] != leaveout]\n",
    "        test = sm[sm[leave] == leaveout]\n",
    "        X_test = test.drop(['group','mouse'], axis=1).to_numpy()\n",
    "        y_test = test[predict].to_numpy()\n",
    "\n",
    "        #balance labels\n",
    "        btrain = train.groupby(predict).apply(lambda x: x.sample(n=minum-1,replace=False)).reset_index(drop=True) # new balanced df\n",
    "        X_train = btrain.drop(['group','mouse'], axis=1).to_numpy()\n",
    "        y_train = btrain[predict].to_numpy()\n",
    "\n",
    "        clf.fit(X_train, y_train)\n",
    "        y_hat = clf.predict(X_test)\n",
    "        a.append(y_test)\n",
    "        b.append(y_hat)\n",
    "    out['y_true'].extend(a)\n",
    "    out['y_pred'].extend(b)\n",
    "    out['acc'].append(accuracy_score(np.concatenate(a),np.concatenate(b)))\n",
    "\n",
    "#shuffle\n",
    "for i in tqdm(range(it)):\n",
    "    sm = tm_data_sig\n",
    "    sm['group'] = sm.groupby('mouse')['group'].transform(np.random.permutation)\n",
    "    a,b= [],[]\n",
    "    for leaveout in sm[leave].unique():\n",
    "        train = sm[sm[leave] != leaveout]\n",
    "        test = sm[sm[leave] == leaveout]\n",
    "        X_test = test.drop(['group','mouse'], axis=1).to_numpy()\n",
    "        y_test = test[predict].to_numpy()\n",
    "\n",
    "        #balance labels\n",
    "        btrain = train.groupby(predict).apply(lambda x: x.sample(n=minum-1,replace=False)).reset_index(drop=True) # new balanced df\n",
    "        X_train = btrain.drop(['group','mouse'], axis=1).to_numpy()\n",
    "        y_train = btrain[predict].to_numpy()\n",
    "\n",
    "        clf.fit(X_train, y_train)\n",
    "        y_hat = clf.predict(X_test)\n",
    "        a.append(y_test)\n",
    "        b.append(y_hat)\n",
    "    out['sy_true'].extend(a)\n",
    "    out['sy_pred'].extend(b)\n",
    "    out['sacc'].append(accuracy_score(np.concatenate(a),np.concatenate(b)))"
   ]
  },
  {
   "cell_type": "code",
   "execution_count": 37,
   "metadata": {},
   "outputs": [],
   "source": [
    "# save decoder results\n",
    "decoder ='phase_decoder_bigrams'\n",
    "with open(data_loc+decoder+'.dat', 'wb') as f:\n",
    "    pickle.dump((out), f)"
   ]
  },
  {
   "cell_type": "code",
   "execution_count": 38,
   "metadata": {},
   "outputs": [
    {
     "data": {
      "image/png": "[encoded data removed]",
      "text/plain": [
       "<Figure size 200x400 with 1 Axes>"
      ]
     },
     "metadata": {
      "needs_background": "light"
     },
     "output_type": "display_data"
    }
   ],
   "source": [
    "# plor accuracy\n",
    "shuff_v=pd.DataFrame()\n",
    "shuff_v['accuracy'] = out['acc']\n",
    "shuff_v['shuff_accuracy'] = out['sacc']\n",
    "fig = plt.figure(figsize=(1, 2))\n",
    "fig.dpi = 200\n",
    "ax = sns.boxplot(data=shuff_v, showfliers=False, showcaps=False, order=['accuracy', 'shuff_accuracy'])\n",
    "plt.xticks(ticks=[0, 1], labels=['Observed', 'Shuffle'], rotation=90)\n",
    "ax.set(ylabel='Accuracy')\n",
    "plt.ylim([0,1])\n",
    "plt.axhline(y=shuff_v['shuff_accuracy'].quantile(.95), xmin=0, xmax=1, ls='--', c='k')\n",
    "sns.despine()"
   ]
  },
  {
   "cell_type": "code",
   "execution_count": 39,
   "metadata": {},
   "outputs": [
    {
     "name": "stdout",
     "output_type": "stream",
     "text": [
      "95th precentile of suffle is:  0.2961748633879781\n",
      "mean of decoding distribution is:  0.2961748633879781\n",
      "mean shuffle accuracy is:  0.2530054644808743\n"
     ]
    }
   ],
   "source": [
    "# is it significant?\n",
    "loc = int(np.floor(len(shuff_v['shuff_accuracy'])*0.95))\n",
    "a=np.argsort(shuff_v['shuff_accuracy'])\n",
    "print('95th precentile of suffle is: ',shuff_v['shuff_accuracy'].quantile(.95)) # [a].to_numpy()[loc])\n",
    "print('mean of decoding distribution is: ',np.mean(np.array(shuff_v['accuracy'])))\n",
    "print ('mean shuffle accuracy is: ',np.mean(shuff_v['shuff_accuracy']))"
   ]
  },
  {
   "cell_type": "markdown",
   "metadata": {},
   "source": [
    "# predicting individual"
   ]
  },
  {
   "cell_type": "code",
   "execution_count": null,
   "metadata": {},
   "outputs": [],
   "source": [
    "#mice that have at least 3 phases and 10 repeptitions each\n",
    "keep_mice = ['03_03', '02_01', '04_01', '01_03', '02_04', '01_01', '03_04', '04_02', '02_02', '04_03', '01_02', '03_01', '04_04', '02_03']\n",
    "\n",
    "# add back labels\n",
    "index_data = read_yaml(cpath+'/moseq2-index.yaml')\n",
    "\n",
    "uuid_cage = {}\n",
    "uuid_mouse = {}\n",
    "uuid_phase = {}\n",
    "uuid_rep = {}\n",
    "for file in index_data['files']:\n",
    "    if file['uuid'] in uuid_include:\n",
    "        uuid_cage[file['uuid']] = file['metadata']['SubjectName'][:2]\n",
    "        uuid_mouse[file['uuid']] = file['metadata']['SubjectName'][:5]\n",
    "        uuid_rep[file['uuid']] = file['metadata']['SubjectName'][7:]\n",
    "        uuid_phase[file['uuid']] = file['group']\n",
    "\n",
    "uuid_include = [k for k, v in uuid_mouse.items() if v in keep_mice]\n",
    "import numpy as np\n",
    "import pandas as pd\n",
    "import matplotlib.pyplot as plt\n",
    "import seaborn as sns\n",
    "\n",
    "import os\n",
    "from moseq2_viz.model.util import parse_model_results, relabel_by_usage\n",
    "from moseq2_viz.model.trans_graph import get_trans_graph_groups, get_group_trans_mats\n",
    "\n",
    "# syllable threshold defined above. Uncomment isf you want to manually set\n",
    "max_syllables = 58\n",
    "\n",
    "# select a transition matrix normalization method\n",
    "normalize = 'bigram' # options: bigram, columns, rows\n",
    "\n",
    "# load your model\n",
    "model_path = cpath+'/model-001-none.p'\n",
    "model_data = parse_model_results(model_path)\n",
    "model_data['labels'] = relabel_by_usage(model_data['labels'], count='usage')[0]\n",
    "index_keep = [i for i, uuid in enumerate(model_data['keys']) if uuid in uuid_include]\n",
    "model_data['labels']=np.array(model_data['labels'])[index_keep]\n",
    "model_data['keys'] = np.array(model_data['keys'])[index_keep]\n",
    "model_data['train_ll'] = np.array(model_data['train_ll'])[index_keep]\n",
    "model_data['train_list'] = np.array(model_data['train_list'])[index_keep]\n",
    "model_data['metadata']['groups'] = uuid_phase\n",
    "\n",
    "mouse_data = [uuid_mouse[k] for k in model_data['keys']]\n",
    "phase_data = [uuid_phase[k] for k in model_data['keys']]\n",
    "rep_data = [uuid_rep[k] for k in model_data['keys']]\n",
    "\n",
    "model_uuids = model_data.get('train_list',model_data['keys'])\n",
    "label_group = [model_data['metadata']['groups'][k] for k in model_uuids]\n",
    "group = sorted([g for g in list(set(label_group)) if 'NA' not in g])\n",
    "rle_lbls = [np.array(rle(lbl)) for lbl in model_data['labels']]\n",
    "\n",
    "trans_mats_permutations = np.load(cpath+'/tm_permute_58.npy')\n",
    "\n",
    "trans_mats_permutations = np.mean(trans_mats_permutations, axis = 1)\n",
    "\n",
    "tm_std = np.std(trans_mats_permutations, axis = 0) *2\n",
    "tm_mean = np.mean(trans_mats_permutations, axis= 0)\n",
    "\n",
    "tm_mean_plus = tm_mean + tm_std\n",
    "tm_mean_minus = tm_mean - tm_std\n",
    "\n",
    "trans_mats, usages = get_group_trans_mats(rle_lbls, label_group, group, max_syllables, normalize=normalize)\n",
    "tm_real = np.array(trans_mats)\n",
    "\n",
    "significant_tm = np.any([tm_real >= tm_mean_plus, tm_real <=tm_mean_minus], axis=0).astype(int)\n",
    "tm_real_mean = np.mean(tm_real, axis = 0)\n",
    "significant_tm_overall = np.any([tm_real_mean >= tm_mean_plus,  tm_real_mean <= tm_mean_minus], axis = 0)\n",
    "\n",
    "select = [0, 1, 2, 3, 4, 5, 6, 7, 8, 9,\n",
    "          10,11,12,13,14,15,16,17,18,19,\n",
    "          20,21,22,23,24,25,26,27,28,29,\n",
    "          30,31,32,33,34,35,36,37,38,39,\n",
    "          40,41,42,43,44,45,46,47,49] # syllable 49 is refered to in the manuscript and mean_df_female as 48 for clarity\n",
    "\n",
    "tm_data_sig = []\n",
    "y = []\n",
    "for index, label in enumerate(model_data['labels']):\n",
    "    tm = get_transition_matrix(label)[0][:max_syllables, :max_syllables]\n",
    "    y.append(label_group[index])\n",
    "    tm = tm * significant_tm_overall\n",
    "    tm = tm[select][:, select]\n",
    "    tm_data_sig.append(tm)\n",
    "    \n",
    "tm_data_sig = np.array(tm_data_sig)\n",
    "tm_data_sig = np.reshape(tm_data_sig, (len(uuid_include), 49*49))\n",
    "tm_data_sig =tm_data_sig/tm_data_sig.sum(1)[:,np.newaxis]\n",
    "print(np.sum(tm_data_sig), np.all(np.isnan(tm_data_sig)))\n",
    "tm_data_sig = pd.DataFrame(tm_data_sig)\n",
    "tm_data_sig['group'] = phase_data\n",
    "tm_data_sig['mouse'] = mouse_data\n",
    "tm_data_sig['rep'] = rep_data"
   ]
  },
  {
   "cell_type": "markdown",
   "metadata": {},
   "source": [
    "## individual identity decoder"
   ]
  },
  {
   "cell_type": "code",
   "execution_count": 43,
   "metadata": {},
   "outputs": [],
   "source": [
    "it=1000\n",
    "leave = 'rep'\n",
    "predict='mouse'\n",
    "minum=10"
   ]
  },
  {
   "cell_type": "code",
   "execution_count": 44,
   "metadata": {},
   "outputs": [
    {
     "data": {
      "application/vnd.jupyter.widget-view+json": {
       "model_id": "65c7a93633174da2bf2d98d90568d8a7",
       "version_major": 2,
       "version_minor": 0
      },
      "text/plain": [
       "HBox(children=(FloatProgress(value=0.0, max=10.0), HTML(value='')))"
      ]
     },
     "metadata": {},
     "output_type": "display_data"
    },
    {
     "name": "stdout",
     "output_type": "stream",
     "text": [
      "\n"
     ]
    },
    {
     "data": {
      "application/vnd.jupyter.widget-view+json": {
       "model_id": "e577fe3439d44635996b5c7d23af6f8d",
       "version_major": 2,
       "version_minor": 0
      },
      "text/plain": [
       "HBox(children=(FloatProgress(value=0.0, max=10.0), HTML(value='')))"
      ]
     },
     "metadata": {},
     "output_type": "display_data"
    },
    {
     "name": "stdout",
     "output_type": "stream",
     "text": [
      "\n"
     ]
    }
   ],
   "source": [
    "#decoder\n",
    "clf = RandomForestClassifier(n_estimators = 250,class_weight='balanced')\n",
    "out = defaultdict(list)\n",
    "for i in tqdm(range(it)):\n",
    "    sm = tm_data_sig.copy()\n",
    "    a,b= [],[]\n",
    "    for leaveout in sm[leave].unique():\n",
    "        train = sm[sm[leave] != leaveout]\n",
    "        test = sm[sm[leave] == leaveout]\n",
    "\n",
    "        X_test = test.drop(['group','rep','mouse'], axis=1).to_numpy()\n",
    "        y_test = test[predict].to_numpy()\n",
    "\n",
    "        #balance labels\n",
    "        btrain = train.groupby(predict).apply(lambda x: x.sample(n=minum-1,replace=False)).reset_index(drop=True) # new balanced df\n",
    "        X_train = btrain.drop(['group','rep','mouse'], axis=1).to_numpy()\n",
    "        y_train = btrain[predict].to_numpy()\n",
    "\n",
    "        clf.fit(X_train, y_train)\n",
    "        y_hat = clf.predict(X_test)\n",
    "        a.append(y_test)\n",
    "        b.append(y_hat)\n",
    "    out['y_true'].extend(a)\n",
    "    out['y_pred'].extend(b)\n",
    "    out['acc'].append(accuracy_score(np.concatenate(a),np.concatenate(b)))\n",
    "\n",
    "#shuffle\n",
    "for i in tqdm(range(it)):\n",
    "    sm = tm_data_sig.copy()\n",
    "    sm['mouse'] = sm.groupby('rep')['mouse'].transform(np.random.permutation)\n",
    "    a,b= [],[]\n",
    "    for leaveout in sm[leave].unique():\n",
    "        train = sm[sm[leave] != leaveout]\n",
    "        test = sm[sm[leave] == leaveout]\n",
    "\n",
    "        X_test = test.drop(['group','rep','mouse'], axis=1).to_numpy()\n",
    "        y_test = test[predict].to_numpy()\n",
    "        #y_test = le.transform(y_test)\n",
    "\n",
    "        #balance labels\n",
    "        btrain = train.groupby(predict).apply(lambda x: x.sample(n=minum-1,replace=False)).reset_index(drop=True) # new balanced df\n",
    "        X_train = btrain.drop(['group','rep','mouse'], axis=1).to_numpy()\n",
    "        y_train = btrain[predict].to_numpy()\n",
    "\n",
    "        clf.fit(X_train, y_train)\n",
    "        y_hat = clf.predict(X_test)\n",
    "        a.append(y_test)\n",
    "        b.append(y_hat)\n",
    "    out['sy_true'].extend(a)\n",
    "    out['sy_pred'].extend(b)\n",
    "    out['sacc'].append(accuracy_score(np.concatenate(a),np.concatenate(b)))"
   ]
  },
  {
   "cell_type": "code",
   "execution_count": 45,
   "metadata": {},
   "outputs": [],
   "source": [
    "# save decoder results\n",
    "decoder ='indv_decoder_bigrams'\n",
    "with open(data_loc+decoder+'.dat', 'wb') as f:\n",
    "    pickle.dump((out), f)"
   ]
  },
  {
   "cell_type": "code",
   "execution_count": 46,
   "metadata": {},
   "outputs": [
    {
     "data": {
      "image/png": "[encoded data removed]",
      "text/plain": [
       "<Figure size 200x400 with 1 Axes>"
      ]
     },
     "metadata": {
      "needs_background": "light"
     },
     "output_type": "display_data"
    }
   ],
   "source": [
    "# plor accuracy\n",
    "shuff_v=pd.DataFrame()\n",
    "shuff_v['accuracy'] = out['acc']\n",
    "shuff_v['shuff_accuracy'] = out['sacc']\n",
    "fig = plt.figure(figsize=(1, 2))\n",
    "fig.dpi = 200\n",
    "ax = sns.boxplot(data=shuff_v, showfliers=False, showcaps=False, order=['accuracy', 'shuff_accuracy'])\n",
    "plt.xticks(ticks=[0, 1], labels=['Observed', 'Shuffle'], rotation=90)\n",
    "ax.set(ylabel='Accuracy')\n",
    "plt.ylim([0,1])\n",
    "plt.axhline(y=shuff_v['shuff_accuracy'].quantile(.95), xmin=0, xmax=1, ls='--', c='k')\n",
    "sns.despine()"
   ]
  },
  {
   "cell_type": "code",
   "execution_count": 47,
   "metadata": {},
   "outputs": [
    {
     "name": "stdout",
     "output_type": "stream",
     "text": [
      "95th precentile of suffle is:  0.09836065573770492\n",
      "mean of decoding distribution is:  0.8978142076502733\n",
      "mean shuffle accuracy is:  0.07486338797814208\n"
     ]
    }
   ],
   "source": [
    "# is it significant?\n",
    "loc = int(np.floor(len(shuff_v['shuff_accuracy'])*0.95))\n",
    "a=np.argsort(shuff_v['shuff_accuracy'])\n",
    "print('95th precentile of suffle is: ',shuff_v['shuff_accuracy'].quantile(.95)) # [a].to_numpy()[loc])\n",
    "print('mean of decoding distribution is: ',np.mean(np.array(shuff_v['accuracy'])))\n",
    "print ('mean shuffle accuracy is: ',np.mean(shuff_v['shuff_accuracy']))"
   ]
  },
  {
   "cell_type": "code",
   "execution_count": null,
   "metadata": {},
   "outputs": [],
   "source": []
  }
 ],
 "metadata": {
  "kernelspec": {
   "display_name": "Python 3",
   "language": "python",
   "name": "python3"
  },
  "language_info": {
   "codemirror_mode": {
    "name": "ipython",
    "version": 3
   },
   "file_extension": ".py",
   "mimetype": "text/x-python",
   "name": "python",
   "nbconvert_exporter": "python",
   "pygments_lexer": "ipython3",
   "version": "3.7.10"
  },
  "vscode": {
   "interpreter": {
    "hash": "260885b99d4d05e0c0e7732611c6ef794230c32dbf358a3feb8acd9c84052fe9"
   }
  },
  "widgets": {
   "application/vnd.jupyter.widget-state+json": {
    "state": {},
    "version_major": 2,
    "version_minor": 0
   }
  }
 },
 "nbformat": 4,
 "nbformat_minor": 4
}
