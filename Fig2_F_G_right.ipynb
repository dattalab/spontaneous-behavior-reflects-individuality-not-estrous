{
 "cells": [
  {
   "cell_type": "markdown",
   "id": "53933550",
   "metadata": {},
   "source": [
    "imports and upload data\n",
    "-----------"
   ]
  },
  {
   "cell_type": "code",
   "execution_count": 1,
   "id": "ce2b0e40-1047-444a-90cf-11299377cceb",
   "metadata": {},
   "outputs": [],
   "source": [
    "import numpy as np\n",
    "import seaborn as sns\n",
    "import pandas as pd\n",
    "import matplotlib.pyplot as plt\n",
    "import warnings\n",
    "from tqdm.auto import tqdm\n",
    "warnings.filterwarnings(\"ignore\", category=DeprecationWarning) \n",
    "warnings.simplefilter('ignore')\n",
    "import os\n",
    "import pickle\n",
    "from sklearn.ensemble import RandomForestClassifier\n",
    "from sklearn.metrics import accuracy_score\n",
    "from matplotlib.gridspec import GridSpec\n",
    "from collections import defaultdict\n",
    "from sklearn.metrics import confusion_matrix\n",
    "%matplotlib inline"
   ]
  },
  {
   "cell_type": "code",
   "execution_count": 2,
   "id": "8d5e3bbb",
   "metadata": {},
   "outputs": [],
   "source": [
    "# upload data\n",
    "cpath = os.getcwd() #assumes mean_df_females is in the same path as the notebook\n",
    "mean_df = pd.read_csv(cpath+'/mean_df_female.csv')"
   ]
  },
  {
   "cell_type": "markdown",
   "id": "6c4adccb",
   "metadata": {},
   "source": [
    "# ----------------------------------------------------------------------- \n",
    "# ANALYSIS\n",
    "# -----------------------------------------------------------------------"
   ]
  },
  {
   "cell_type": "code",
   "execution_count": 3,
   "id": "f0c1e6f2",
   "metadata": {},
   "outputs": [],
   "source": [
    "# plot/colors definitions\n",
    "data_loc=cpath+'/figs/'\n",
    "try:\n",
    "    os.mkdir(data_loc)\n",
    "except FileExistsError:\n",
    "    # directory already exists\n",
    "    pass\n",
    "\n",
    "plt.style.use(\"seaborn-paper\")"
   ]
  },
  {
   "cell_type": "code",
   "execution_count": 4,
   "id": "c28bf6ec",
   "metadata": {},
   "outputs": [],
   "source": [
    "def _plot_cm(y_true, y_pred, ax, ax_labels, title):\n",
    "    cm = confusion_matrix(y_true, y_pred)\n",
    "    cm = cm / cm.sum(axis=1, keepdims=True)\n",
    "    im = ax.imshow(cm, cmap='copper', vmin=0, vmax=1)\n",
    "    plt.xticks(range(len(ax_labels)), ax_labels)\n",
    "    plt.yticks(range(len(ax_labels)), ax_labels)\n",
    "    ax.set_xlabel('Predicted')\n",
    "    ax.set_ylabel('Real')\n",
    "    ax.set_title(title)\n",
    "    return im\n",
    "\n",
    "def plot_cm(y_true, y_pred, y_shuffle_true, y_shuffle_pred,name):\n",
    "    '''\n",
    "    plot confusion matrix\n",
    "\n",
    "    Args:\n",
    "        y_true ([np.array]): array for true label\n",
    "        y_pred ([np.array]): array for predicted label\n",
    "        y_shuffle_true ([np.array]): array for shffuled label\n",
    "        y_shuffle_pred ([np.array]): array for shuffled predicted label\n",
    "    '''\n",
    "    fig = plt.figure(figsize=(23, 10), facecolor='white')\n",
    "    gs = GridSpec(ncols=3, nrows=1, wspace=0.1, figure = fig, width_ratios=[10,10,0.3])\n",
    "    fig_ax = fig.add_subplot(gs[0,0])\n",
    "    labels = np.unique(y_true)\n",
    "    _plot_cm(y_true, y_pred, fig_ax, labels, f'Real Accuracy {accuracy_score(y_true, y_pred):0.2f}')\n",
    "\n",
    "    fig_ax = fig.add_subplot(gs[0,1])\n",
    "    im = _plot_cm(y_shuffle_true, y_shuffle_pred, fig_ax, labels, f'Shuffle Accuracy {accuracy_score(y_shuffle_true, y_shuffle_pred):0.2f}')\n",
    "    fig_ax.set_ylabel('')\n",
    "    fig_ax.set_yticklabels([])\n",
    "\n",
    "    # plot colorbar\n",
    "    cb = fig.add_subplot(gs[0,2])\n",
    "    fig.colorbar(mappable=im, cax=cb, label='Fraction of labels', )\n",
    "    fig.tight_layout()\n",
    "    plt.show()\n",
    "    fig.savefig(data_loc +name+'.pdf', bbox_inches='tight')"
   ]
  },
  {
   "cell_type": "markdown",
   "id": "415e0793",
   "metadata": {},
   "source": [
    "# individual decoder"
   ]
  },
  {
   "cell_type": "code",
   "execution_count": 5,
   "id": "d2e60028",
   "metadata": {},
   "outputs": [],
   "source": [
    "# define decoder parameters\n",
    "df=mean_df.copy()\n",
    "it=1000\n",
    "leave = 'rep'\n",
    "predict='mouse'\n",
    "minum=10"
   ]
  },
  {
   "cell_type": "code",
   "execution_count": 6,
   "id": "760ba3f2",
   "metadata": {},
   "outputs": [],
   "source": [
    "# choose mice that have at least 3 phases and 10 repetitions each\n",
    "minp = 3\n",
    "minr= 10\n",
    "phase_counts = df.groupby('mouse')['group'].nunique()\n",
    "rep_counts = df.groupby('mouse')['rep'].nunique()\n",
    "keep_mice = list(set(phase_counts[phase_counts >= minp].index) & set(rep_counts[rep_counts >= minr].index))\n",
    "\n",
    "#all sessions!\n",
    "data = df[df['mouse'].isin(keep_mice)].groupby(by = ['mouse','rep','syllable']).mean()['usage'].reset_index()\n",
    "data = pd.pivot_table(data, values='usage', index=['rep', 'mouse'], columns=['syllable']).reset_index().fillna(0)"
   ]
  },
  {
   "cell_type": "code",
   "execution_count": 7,
   "id": "e2e8394a",
   "metadata": {},
   "outputs": [
    {
     "data": {
      "application/vnd.jupyter.widget-view+json": {
       "model_id": "bdd2d07c034b445bbc4262122dbc6f1e",
       "version_major": 2,
       "version_minor": 0
      },
      "text/plain": [
       "  0%|          | 0/100 [00:00<?, ?it/s]"
      ]
     },
     "metadata": {},
     "output_type": "display_data"
    },
    {
     "data": {
      "application/vnd.jupyter.widget-view+json": {
       "model_id": "0c8facd8d7ca424487e1aa31c51dd675",
       "version_major": 2,
       "version_minor": 0
      },
      "text/plain": [
       "  0%|          | 0/100 [00:00<?, ?it/s]"
      ]
     },
     "metadata": {},
     "output_type": "display_data"
    }
   ],
   "source": [
    "#decoder\n",
    "clf = RandomForestClassifier(n_estimators = 250,class_weight='balanced')\n",
    "out = defaultdict(list)\n",
    "for i in tqdm(range(it)):\n",
    "    sm = data.copy()\n",
    "    a,b= [],[]\n",
    "    for leaveout in sm[leave].unique():\n",
    "        train = sm[sm[leave] != leaveout]\n",
    "        test = sm[sm[leave] == leaveout]\n",
    "\n",
    "        X_test = test.drop(['rep','mouse'], axis=1).to_numpy()\n",
    "        y_test = test[predict].to_numpy()\n",
    "\n",
    "        #balance labels\n",
    "        btrain = train.groupby(predict).apply(lambda x: x.sample(n=minum-1,replace=False)).reset_index(drop=True) # new balanced df\n",
    "        X_train = btrain.drop(['rep','mouse'], axis=1).to_numpy()\n",
    "        y_train = btrain[predict].to_numpy()\n",
    "\n",
    "        clf.fit(X_train, y_train)\n",
    "        y_hat = clf.predict(X_test)\n",
    "        a.append(y_test)\n",
    "        b.append(y_hat)\n",
    "    out['y_true'].extend(a)\n",
    "    out['y_pred'].extend(b)\n",
    "    out['acc'].append(accuracy_score(np.concatenate(a),np.concatenate(b)))\n",
    "\n",
    "#shuffle\n",
    "for i in tqdm(range(it)):\n",
    "    sm = data.copy()\n",
    "    sm['mouse'] = sm.groupby('rep')['mouse'].transform(np.random.permutation)\n",
    "    a,b= [],[]\n",
    "    for leaveout in sm[leave].unique():\n",
    "        train = sm[sm[leave] != leaveout]\n",
    "        test = sm[sm[leave] == leaveout]\n",
    "\n",
    "        X_test = test.drop(['rep','mouse'], axis=1).to_numpy()\n",
    "        y_test = test[predict].to_numpy()\n",
    "\n",
    "        #balance labels\n",
    "        btrain = train.groupby(predict).apply(lambda x: x.sample(n=minum-1,replace=False)).reset_index(drop=True) # new balanced df\n",
    "        X_train = btrain.drop(['rep','mouse'], axis=1).to_numpy()\n",
    "        y_train = btrain[predict].to_numpy()\n",
    "\n",
    "        clf.fit(X_train, y_train)\n",
    "        y_hat = clf.predict(X_test)\n",
    "        a.append(y_test)\n",
    "        b.append(y_hat)\n",
    "    out['sy_true'].extend(a)\n",
    "    out['sy_pred'].extend(b)\n",
    "    out['sacc'].append(accuracy_score(np.concatenate(a),np.concatenate(b)))"
   ]
  },
  {
   "cell_type": "code",
   "execution_count": 8,
   "id": "578161cc",
   "metadata": {},
   "outputs": [],
   "source": [
    "# save decoder results\n",
    "decoder ='mouse_decoder_female'\n",
    "with open(data_loc+decoder+'.dat', 'wb') as f:\n",
    "    pickle.dump((out), f)"
   ]
  },
  {
   "cell_type": "code",
   "execution_count": 9,
   "id": "2a2d6faa",
   "metadata": {},
   "outputs": [
    {
     "data": {
      "image/png": "[encoded data removed]",
      "text/plain": [
       "<Figure size 1656x720 with 3 Axes>"
      ]
     },
     "metadata": {},
     "output_type": "display_data"
    }
   ],
   "source": [
    "# plot confusion matrix\n",
    "plot_cm(np.concatenate(out['y_true']),np.concatenate(out['y_pred']),\n",
    "        np.concatenate(out['sy_true']),np.concatenate(out['sy_pred']),decoder+'_confusion')"
   ]
  },
  {
   "cell_type": "code",
   "execution_count": 10,
   "id": "fec5e17f",
   "metadata": {
    "scrolled": true
   },
   "outputs": [
    {
     "data": {
      "image/png": "[encoded data removed]",
      "text/plain": [
       "<Figure size 200x400 with 1 Axes>"
      ]
     },
     "metadata": {
      "needs_background": "light"
     },
     "output_type": "display_data"
    }
   ],
   "source": [
    "# plot accuracy\n",
    "shuff_v=pd.DataFrame()\n",
    "shuff_v['accuracy'] = out['acc']\n",
    "shuff_v['shuff_accuracy'] = out['sacc']\n",
    "fig = plt.figure(figsize=(1, 2))\n",
    "fig.dpi = 200\n",
    "ax = sns.boxplot(data=shuff_v, showfliers=False, showcaps=False, order=['accuracy', 'shuff_accuracy'])\n",
    "plt.xticks(ticks=[0, 1], labels=['Observed', 'Shuffle'], rotation=90)\n",
    "ax.set(ylabel='Accuracy')\n",
    "plt.ylim([0,1])\n",
    "plt.axhline(y=shuff_v['shuff_accuracy'].quantile(.95), xmin=0, xmax=1, ls='--', c='k') #plot threshold for significance \n",
    "sns.despine()\n",
    "fig.savefig(data_loc +decoder+'accuracy.pdf', bbox_inches='tight')"
   ]
  },
  {
   "cell_type": "code",
   "execution_count": 11,
   "id": "ed07af78",
   "metadata": {},
   "outputs": [
    {
     "name": "stdout",
     "output_type": "stream",
     "text": [
      "95th precentile of suffle is:  0.10409836065573769\n",
      "mean of decoding distribution is:  0.8687431693989071\n",
      "mean shuffle accuracy is:  0.07131147540983605\n"
     ]
    }
   ],
   "source": [
    "# is it significant?\n",
    "loc = int(np.floor(len(shuff_v['shuff_accuracy'])*0.95))\n",
    "a=np.argsort(shuff_v['shuff_accuracy'])\n",
    "print('95th precentile of suffle is: ',shuff_v['shuff_accuracy'].quantile(.95)) # [a].to_numpy()[loc])\n",
    "print('mean of decoding distribution is: ',np.mean(np.array(shuff_v['accuracy'])))\n",
    "print ('mean shuffle accuracy is: ',np.mean(shuff_v['shuff_accuracy']))"
   ]
  }
 ],
 "metadata": {
  "kernelspec": {
   "display_name": "Python 3",
   "language": "python",
   "name": "python3"
  },
  "language_info": {
   "codemirror_mode": {
    "name": "ipython",
    "version": 3
   },
   "file_extension": ".py",
   "mimetype": "text/x-python",
   "name": "python",
   "nbconvert_exporter": "python",
   "pygments_lexer": "ipython3",
   "version": "3.7.10"
  },
  "widgets": {
   "application/vnd.jupyter.widget-state+json": {
    "state": {},
    "version_major": 2,
    "version_minor": 0
   }
  }
 },
 "nbformat": 4,
 "nbformat_minor": 5
}
