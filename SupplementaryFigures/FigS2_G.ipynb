{
 "cells": [
  {
   "cell_type": "markdown",
   "id": "97e8f2d5",
   "metadata": {},
   "source": [
    "## imports and uploads"
   ]
  },
  {
   "cell_type": "code",
   "execution_count": 18,
   "id": "da0329aa",
   "metadata": {},
   "outputs": [],
   "source": [
    "from sklearn.datasets import load_breast_cancer as LBC\n",
    "from sklearn.feature_selection import mutual_info_classif as MIC\n",
    "import numpy as np\n",
    "import seaborn as sns\n",
    "import pandas as pd\n",
    "import matplotlib.pyplot as plt\n",
    "import warnings\n",
    "warnings.filterwarnings(\"ignore\", category=DeprecationWarning) \n",
    "warnings.simplefilter('ignore')\n",
    "import os\n",
    "import colorcet as cc"
   ]
  },
  {
   "cell_type": "code",
   "execution_count": 19,
   "id": "9cbce5ee",
   "metadata": {},
   "outputs": [],
   "source": [
    "# upload data\n",
    "cpath = os.getcwd() #assumes mean_df_females is in the same path as the notebook\n",
    "mean_df = pd.read_csv(cpath+'/mean_df_female.csv')"
   ]
  },
  {
   "cell_type": "markdown",
   "id": "06b648b7",
   "metadata": {},
   "source": [
    "# ----------------------------------------------------------------------- \n",
    "# ANALYSIS\n",
    "# -----------------------------------------------------------------------"
   ]
  },
  {
   "cell_type": "code",
   "execution_count": 20,
   "id": "a46a8154",
   "metadata": {},
   "outputs": [],
   "source": [
    "# plot/colors definitions\n",
    "# save figures\n",
    "data_loc=cpath+'/figs/'\n",
    "try:\n",
    "    os.mkdir(data_loc)\n",
    "except FileExistsError:\n",
    "    # directory already exists\n",
    "    pass\n",
    "\n",
    "plt.style.use(\"seaborn-paper\")\n",
    "phasec = ['#CE3045','#EF7C32','#FFDD00','#939598']\n",
    "cmap2= ['#EC6D52','#5BA6E6', '#977EDA']"
   ]
  },
  {
   "cell_type": "code",
   "execution_count": 21,
   "id": "a2990f36",
   "metadata": {},
   "outputs": [],
   "source": [
    "df=mean_df.copy()\n",
    "data2 = df.groupby(by = ['mouse', 'group','rep','syllable']).mean()['usage'].reset_index()\n",
    "data = pd.pivot_table(data2, values='usage', index=['group','rep', 'mouse'], columns=['syllable']).reset_index().fillna(0)"
   ]
  },
  {
   "cell_type": "code",
   "execution_count": 22,
   "id": "d7d9b46b",
   "metadata": {},
   "outputs": [],
   "source": [
    "### for phase"
   ]
  },
  {
   "cell_type": "code",
   "execution_count": 23,
   "id": "8ca46a6f",
   "metadata": {},
   "outputs": [],
   "source": [
    "# prepare data\n",
    "datan = data.copy()\n",
    "y = datan['group']\n",
    "X = datan.drop(columns=['mouse', 'group','rep']).to_numpy()"
   ]
  },
  {
   "cell_type": "code",
   "execution_count": 24,
   "id": "6b62764b",
   "metadata": {},
   "outputs": [],
   "source": [
    "mi_score_phase = MIC(X,y)\n",
    "phase_indx = np.argsort(mi_score_phase)[::-1][0:10] # syllble index\n",
    "impsyl_phase= data2.syllable.unique()[phase_indx] #syllable id\n",
    "top_mi_score_phase = mi_score_phase[phase_indx]\n",
    "imp_phase = np.array(['n']*len(mi_score_phase))\n",
    "imp_phase[np.array(phase_indx)]='y'"
   ]
  },
  {
   "cell_type": "code",
   "execution_count": 25,
   "id": "411e5637",
   "metadata": {},
   "outputs": [
    {
     "name": "stdout",
     "output_type": "stream",
     "text": [
      "10 most informative syllables for phase:  [15 19 16 12 32 46  5 29 10  9]\n"
     ]
    }
   ],
   "source": [
    "print('10 most informative syllables for phase: ',impsyl_phase)"
   ]
  },
  {
   "cell_type": "code",
   "execution_count": 26,
   "id": "91423238",
   "metadata": {},
   "outputs": [],
   "source": [
    "### for indv"
   ]
  },
  {
   "cell_type": "code",
   "execution_count": 27,
   "id": "76e719e5",
   "metadata": {},
   "outputs": [],
   "source": [
    "datan = data.copy()\n",
    "y = datan['mouse']\n",
    "X = datan.drop(columns=['mouse', 'group','rep']).to_numpy()"
   ]
  },
  {
   "cell_type": "code",
   "execution_count": 28,
   "id": "646a8130",
   "metadata": {},
   "outputs": [],
   "source": [
    "mi_score_indv = MIC(X,y)\n",
    "indv_indx = np.argsort(mi_score_indv)[::-1][0:10] # syllble index\n",
    "impsyl_indv= data2.syllable.unique()[indv_indx] #syllable id\n",
    "top_mi_score_indv = mi_score_indv[indv_indx]\n",
    "imp_indv = np.array(['n']*len(mi_score_indv))\n",
    "imp_indv[np.array(indv_indx)]='y'"
   ]
  },
  {
   "cell_type": "code",
   "execution_count": 29,
   "id": "6a19c4fa",
   "metadata": {},
   "outputs": [
    {
     "name": "stdout",
     "output_type": "stream",
     "text": [
      "10 most informative syllables for individual:  [28 30  8  1 46 40 42 13  5 36]\n"
     ]
    }
   ],
   "source": [
    "print('10 most informative syllables for individual: ',impsyl_indv)"
   ]
  },
  {
   "cell_type": "code",
   "execution_count": 30,
   "id": "7990eea1",
   "metadata": {},
   "outputs": [],
   "source": [
    "### for indv and phase interaction"
   ]
  },
  {
   "cell_type": "code",
   "execution_count": 31,
   "id": "25195fa4",
   "metadata": {},
   "outputs": [],
   "source": [
    "datan = data.copy()\n",
    "y = datan['mouse'] + datan['group']\n",
    "X = datan.drop(columns=['mouse', 'group','rep']).to_numpy()"
   ]
  },
  {
   "cell_type": "code",
   "execution_count": 32,
   "id": "fd532d92",
   "metadata": {},
   "outputs": [],
   "source": [
    "mi_score_inter = MIC(X,y)\n",
    "inter_indx = np.argsort(mi_score_inter)[::-1][0:10] # syllble index\n",
    "impsyl_inter= data2.syllable.unique()[inter_indx] #syllable id\n",
    "top_mi_score_inter = mi_score_inter[inter_indx]\n",
    "imp_inter = np.array(['n']*len(mi_score_inter))\n",
    "imp_inter[np.array(inter_indx)]='y'"
   ]
  },
  {
   "cell_type": "code",
   "execution_count": 33,
   "id": "1fbe5919",
   "metadata": {},
   "outputs": [],
   "source": [
    "mi=pd.DataFrame()\n",
    "syll = list(range(49))\n",
    "mi['syll'] = syll*3\n",
    "mi['mi'] = np.concatenate((np.array(mi_score_phase),np.array(mi_score_indv),np.array(mi_score_inter)))\n",
    "mi['group'] = np.concatenate((len(mi_score_phase) * ['phase'],len(mi_score_indv) * ['individual'],len(mi_score_inter) * ['interaction'])) \n",
    "mi['imp'] = np.concatenate((np.array(imp_phase),np.array(imp_indv),np.array(imp_inter)))"
   ]
  },
  {
   "cell_type": "code",
   "execution_count": 34,
   "id": "269e2cfd",
   "metadata": {},
   "outputs": [
    {
     "name": "stderr",
     "output_type": "stream",
     "text": [
      "No handles with labels found to put in legend.\n"
     ]
    },
    {
     "data": {
      "image/png": "[encoded data removed]",
      "text/plain": [
       "<Figure size 576x720 with 1 Axes>"
      ]
     },
     "metadata": {
      "needs_background": "light"
     },
     "output_type": "display_data"
    }
   ],
   "source": [
    "# beeswarm\n",
    "fig, ax = plt.subplots()\n",
    "fig.set_size_inches(8,10)\n",
    "ax.set_ylim([-0.1,0.8])\n",
    "ax = sns.swarmplot(x=\"group\",y=\"mi\",data=mi, \n",
    "                   #hue='syll',palette=\"rainbow\",legend='full', #uncomment to color by syllable\n",
    "                   alpha=0.7, size=7,  palette = cmap2)\n",
    "plt.legend(frameon=False, loc='upper left', bbox_to_anchor=(1.25, 1))\n",
    "fig.savefig(data_loc +'MI_swarmplot.pdf', bbox_inches='tight')"
   ]
  }
 ],
 "metadata": {
  "kernelspec": {
   "display_name": "Python 3",
   "language": "python",
   "name": "python3"
  },
  "language_info": {
   "codemirror_mode": {
    "name": "ipython",
    "version": 3
   },
   "file_extension": ".py",
   "mimetype": "text/x-python",
   "name": "python",
   "nbconvert_exporter": "python",
   "pygments_lexer": "ipython3",
   "version": "3.7.10"
  },
  "widgets": {
   "application/vnd.jupyter.widget-state+json": {
    "state": {},
    "version_major": 2,
    "version_minor": 0
   }
  }
 },
 "nbformat": 4,
 "nbformat_minor": 5
}
