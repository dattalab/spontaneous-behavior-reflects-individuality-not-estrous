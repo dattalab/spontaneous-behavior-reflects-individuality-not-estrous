{
 "cells": [
  {
   "cell_type": "code",
   "execution_count": 46,
   "id": "b1088ea6",
   "metadata": {},
   "outputs": [],
   "source": [
    "## imports and data uploads"
   ]
  },
  {
   "cell_type": "code",
   "execution_count": 47,
   "id": "ce2b0e40-1047-444a-90cf-11299377cceb",
   "metadata": {
    "tags": []
   },
   "outputs": [],
   "source": [
    "import numpy as np\n",
    "import seaborn as sns\n",
    "import pandas as pd\n",
    "import matplotlib.pyplot as plt\n",
    "import warnings\n",
    "import pickle\n",
    "warnings.filterwarnings(\"ignore\", category=DeprecationWarning) \n",
    "warnings.simplefilter('ignore')\n",
    "import os\n",
    "from sklearn.linear_model import LinearRegression, ElasticNet\n",
    "from sklearn.preprocessing import OneHotEncoder\n",
    "from sklearn.preprocessing import StandardScaler\n",
    "from collections import defaultdict\n",
    "from scipy.spatial.distance import squareform\n",
    "from sklearn.metrics import accuracy_score\n",
    "from matplotlib.gridspec import GridSpec\n",
    "from sklearn.metrics import confusion_matrix\n",
    "%matplotlib inline"
   ]
  },
  {
   "cell_type": "code",
   "execution_count": 48,
   "id": "3b16cf55",
   "metadata": {},
   "outputs": [],
   "source": [
    "# upload data\n",
    "cpath = os.getcwd() #assumes mean_df_females is in the same path as the notebook\n",
    "female_mean_df = pd.read_csv(cpath+'/mean_df_female.csv')\n",
    "female_scalar_df = pd.read_csv(cpath+'/scalar_df_female.csv')\n",
    "female_mean_df.syllable[female_mean_df.syllable==48]=49 #to match syllable id in scalar df\n",
    "male_mean_df = pd.read_csv(cpath+'/mean_df_male.csv')\n",
    "male_scalar_df = pd.read_csv(cpath+'/scalar_df_male.csv')"
   ]
  },
  {
   "cell_type": "markdown",
   "id": "e11e61a2",
   "metadata": {},
   "source": [
    "# ----------------------------------------------------------------------- \n",
    "# ANALYSIS\n",
    "# -----------------------------------------------------------------------"
   ]
  },
  {
   "cell_type": "code",
   "execution_count": 49,
   "id": "32b7b77e",
   "metadata": {},
   "outputs": [],
   "source": [
    "# plot/colors definitions\n",
    "data_loc=cpath+'/figs/'\n",
    "try:\n",
    "    os.mkdir(data_loc)\n",
    "except FileExistsError:\n",
    "    # directory already exists\n",
    "    pass\n",
    "\n",
    "plt.style.use(\"seaborn-paper\")"
   ]
  },
  {
   "cell_type": "code",
   "execution_count": 50,
   "id": "c28bf6ec",
   "metadata": {
    "tags": []
   },
   "outputs": [],
   "source": [
    "def _plot_cm(y_true, y_pred, ax, ax_labels, title):\n",
    "    cm = confusion_matrix(y_true, y_pred)\n",
    "    cm = cm / cm.sum(axis=1, keepdims=True)\n",
    "    im = ax.imshow(cm, cmap='copper', vmin=0, vmax=1)\n",
    "    plt.xticks(range(len(ax_labels)), ax_labels)\n",
    "    plt.yticks(range(len(ax_labels)), ax_labels)\n",
    "    ax.set_xlabel('Predicted')\n",
    "    ax.set_ylabel('Real')\n",
    "    ax.set_title(title)\n",
    "    return im\n",
    "\n",
    "def plot_cm(y_true, y_pred, y_shuffle_true, y_shuffle_pred,name):\n",
    "    '''\n",
    "    plot confusion matrix\n",
    "\n",
    "    Args:\n",
    "        y_true ([np.array]): array for true label\n",
    "        y_pred ([np.array]): array for predicted label\n",
    "        y_shuffle_true ([np.array]): array for shffuled label\n",
    "        y_shuffle_pred ([np.array]): array for shuffled predicted label\n",
    "    '''\n",
    "    fig = plt.figure(figsize=(23, 10), facecolor='white')\n",
    "    gs = GridSpec(ncols=3, nrows=1, wspace=0.1, figure = fig, width_ratios=[10,10,0.3])\n",
    "    fig_ax = fig.add_subplot(gs[0,0])\n",
    "    labels = np.unique(y_true)\n",
    "    _plot_cm(y_true, y_pred, fig_ax, labels, f'Real Accuracy {accuracy_score(y_true, y_pred):0.2f}')\n",
    "\n",
    "    fig_ax = fig.add_subplot(gs[0,1])\n",
    "    im = _plot_cm(y_shuffle_true, y_shuffle_pred, fig_ax, labels, f'Shuffle Accuracy {accuracy_score(y_shuffle_true, y_shuffle_pred):0.2f}')\n",
    "    fig_ax.set_ylabel('')\n",
    "    fig_ax.set_yticklabels([])\n",
    "\n",
    "    # plot colorbar\n",
    "    cb = fig.add_subplot(gs[0,2])\n",
    "    fig.colorbar(mappable=im, cax=cb, label='Fraction of labels', )\n",
    "    fig.tight_layout()\n",
    "    plt.show()\n",
    "    fig.savefig(data_loc +name+'.pdf', bbox_inches='tight')"
   ]
  },
  {
   "cell_type": "code",
   "execution_count": 51,
   "id": "e98e296e",
   "metadata": {
    "tags": []
   },
   "outputs": [],
   "source": [
    "def KLD_analysis(frequencies):\n",
    "    '''rows are sessions (or mice/phases), columns are variables (syllables)'''\n",
    "    cohort_dist=np.zeros((len(frequencies),len(frequencies)),dtype=float)\n",
    "    x=0\n",
    "    y=0\n",
    "    for i in frequencies:\n",
    "        for j in frequencies:\n",
    "            i[i==0]=.0000000001\n",
    "            j[j==0]=.0000000001\n",
    "            cohort_dist[x,y]=scipy.stats.entropy(pk=np.array(i), qk=np.array(j))\n",
    "            y=y+1\n",
    "        y=0\n",
    "        x=x+1\n",
    "    return cohort_dist"
   ]
  },
  {
   "cell_type": "code",
   "execution_count": 52,
   "id": "b0b6aff3",
   "metadata": {
    "tags": []
   },
   "outputs": [],
   "source": [
    "def cal_scalars_sessions(mean_df,scalar_df,metric='robust'):\n",
    "    # area, height, width, length\n",
    "    if metric=='robust':\n",
    "        hdf = scalar_df.groupby(['mouse','rep'])['height_ave_mm'].quantile(0.95) - scalar_df.groupby('mouse')['height_ave_mm'].quantile(0.05)\n",
    "        wdf = scalar_df.groupby(['mouse','rep'])['width_mm'].quantile(0.95) - scalar_df.groupby('mouse')['width_mm'].quantile(0.05)\n",
    "        adf = scalar_df.groupby(['mouse','rep'])['area_mm'].quantile(0.95) - scalar_df.groupby('mouse')['area_mm'].quantile(0.05)\n",
    "        ldf = scalar_df.groupby(['mouse','rep'])['length_mm'].quantile(0.95) - scalar_df.groupby('mouse')['length_mm'].quantile(0.05)\n",
    "    \n",
    "    if metric=='range':\n",
    "        hdf = scalar_df.groupby(['mouse','rep'])['height_ave_mm'].max() - scalar_df.groupby('mouse')['height_ave_mm'].min()\n",
    "        wdf = scalar_df.groupby(['mouse','rep'])['width_mm'].max() - scalar_df.groupby('mouse')['width_mm'].min()\n",
    "        adf = scalar_df.groupby(['mouse','rep'])['area_mm'].max() - scalar_df.groupby('mouse')['area_mm'].min()\n",
    "        ldf = scalar_df.groupby(['mouse','rep'])['length_mm'].max() - scalar_df.groupby('mouse')['length_mm'].min()\n",
    "    \n",
    "    if metric=='max':\n",
    "        hdf = scalar_df.groupby(['mouse','rep'])['height_ave_mm'].max()\n",
    "        wdf = scalar_df.groupby(['mouse','rep'])['width_mm'].max()\n",
    "        adf = scalar_df.groupby(['mouse','rep'])['area_mm'].max()\n",
    "        ldf = scalar_df.groupby(['mouse','rep'])['length_mm'].max()\n",
    "    \n",
    "    if metric=='min':\n",
    "        hdf = scalar_df.groupby(['mouse','rep'])['height_ave_mm'].min()\n",
    "        wdf = scalar_df.groupby(['mouse','rep'])['width_mm'].min()\n",
    "        adf = scalar_df.groupby(['mouse','rep'])['area_mm'].min()\n",
    "        ldf = scalar_df.groupby(['mouse','rep'])['length_mm'].min()\n",
    "        \n",
    "    if metric=='mean':\n",
    "        hdf = scalar_df.groupby(['mouse','rep'])['height_ave_mm'].mean()\n",
    "        wdf = scalar_df.groupby(['mouse','rep'])['width_mm'].mean()\n",
    "        adf = scalar_df.groupby(['mouse','rep'])['area_mm'].mean()\n",
    "        ldf = scalar_df.groupby(['mouse','rep'])['length_mm'].mean()\n",
    "        \n",
    "    #syllable usage\n",
    "    temp_mean_df = mean_df.groupby(by = ['mouse','rep','syllable']).mean()['usage'].reset_index()\n",
    "    mean_df_lc = pd.pivot_table(temp_mean_df, values='usage', index=['mouse','rep'], columns=['syllable']).reset_index().fillna(0)\n",
    "    \n",
    "    mean_df_lc['height']=hdf.values\n",
    "    mean_df_lc['width']=wdf.values\n",
    "    mean_df_lc['area']=adf.values\n",
    "    mean_df_lc['length']=ldf.values\n",
    "    \n",
    "    return mean_df_lc"
   ]
  },
  {
   "cell_type": "markdown",
   "id": "bed8c6c9",
   "metadata": {},
   "source": [
    "# Female data"
   ]
  },
  {
   "cell_type": "markdown",
   "id": "eafc612d",
   "metadata": {},
   "source": [
    "## upload identity decoder with leave one mouse out"
   ]
  },
  {
   "cell_type": "code",
   "execution_count": 53,
   "id": "71adfdc1",
   "metadata": {
    "tags": []
   },
   "outputs": [],
   "source": [
    "#### upload data\n",
    "decoder = 'mouse_confusion_decoder_female'\n",
    "with open(data_loc+decoder+'.dat', 'rb') as f:\n",
    "    out = pickle.load(f)"
   ]
  },
  {
   "cell_type": "code",
   "execution_count": 54,
   "id": "f3f33c77",
   "metadata": {
    "tags": []
   },
   "outputs": [
    {
     "data": {
      "image/png": "[encoded data removed]",
      "text/plain": [
       "<Figure size 360x360 with 1 Axes>"
      ]
     },
     "metadata": {
      "needs_background": "light"
     },
     "output_type": "display_data"
    }
   ],
   "source": [
    "fig, ax = plt.subplots()\n",
    "fig.set_size_inches(5,5)\n",
    "cm = confusion_matrix(np.concatenate(out['y_true']),np.concatenate(out['y_pred']))\n",
    "plot_cm = (cm-np.min(cm))/(np.max(cm)-np.min(cm)) # normalize all to 0-1 scale\n",
    "im = plt.imshow(plot_cm, cmap='copper', vmin=0, vmax=1)\n",
    "ax_labels = np.unique(np.concatenate(out['y_true']))\n",
    "plt.xticks(range(len(ax_labels)), ax_labels)\n",
    "plt.yticks(range(len(ax_labels)), ax_labels)\n",
    "plt.title('female confusion decoder')\n",
    "fig.savefig(data_loc +'female_confusion_decoder_normalized.pdf', bbox_inches='tight')"
   ]
  },
  {
   "cell_type": "markdown",
   "id": "b614a88c",
   "metadata": {},
   "source": [
    "## size distance"
   ]
  },
  {
   "cell_type": "code",
   "execution_count": 55,
   "id": "ac606c74",
   "metadata": {
    "tags": []
   },
   "outputs": [],
   "source": [
    "female_scalars = cal_scalars_sessions(female_mean_df,female_scalar_df,'robust')\n",
    "scalars = ['height','width','area','length']"
   ]
  },
  {
   "cell_type": "code",
   "execution_count": 56,
   "id": "df89cb44",
   "metadata": {
    "tags": []
   },
   "outputs": [],
   "source": [
    "## correlate with euclidian distance of all metrics females\n",
    "# pick mice that have at least 3 phases and 10 repetitions each (to match decoder)\n",
    "minp = 3\n",
    "minr= 10\n",
    "phase_counts = female_mean_df.groupby('mouse')['group'].nunique()\n",
    "rep_counts = female_mean_df.groupby('mouse')['rep'].nunique()\n",
    "keep_mice = list(set(phase_counts[phase_counts >= minp].index) & set(rep_counts[rep_counts >= minr].index))\n",
    "\n",
    "from sklearn.preprocessing import StandardScaler\n",
    "# scale the scalars data\n",
    "scale= StandardScaler()\n",
    "df = female_scalars[['mouse','height','width','area','length']]\n",
    "df = df[df['mouse'].isin(keep_mice)].groupby(by = ['mouse']).mean().reset_index()\n",
    "data = df.drop(['mouse'], axis=1).to_numpy()\n",
    "scaled_data = scale.fit_transform(data) \n",
    "mouse = df.mouse.to_numpy()\n",
    "female_scaled = pd.DataFrame(np.vstack([mouse,scaled_data.T]).T, columns = list(df.columns))"
   ]
  },
  {
   "cell_type": "code",
   "execution_count": 57,
   "id": "f94dfa4d",
   "metadata": {
    "tags": []
   },
   "outputs": [
    {
     "data": {
      "image/png": "[encoded data removed]",
      "text/plain": [
       "<Figure size 360x360 with 1 Axes>"
      ]
     },
     "metadata": {
      "needs_background": "light"
     },
     "output_type": "display_data"
    }
   ],
   "source": [
    "# get euclidean distance between a vector all scalars\n",
    "fig, ax = plt.subplots()\n",
    "fig.set_size_inches(5,5)\n",
    "curr = female_scaled.drop('mouse',axis=1).to_numpy() \n",
    "dist=np.zeros((len(curr),len(curr)),dtype=float)\n",
    "for i in range(len(curr)):\n",
    "    for j in range(len(curr)):\n",
    "        dist[i][j] = np.linalg.norm(curr[i]-curr[j])\n",
    "\n",
    "## plot\n",
    "plot_dist = (dist-np.min(dist))/(np.max(dist)-np.min(dist))\n",
    "im = plt.imshow(plot_dist, cmap='copper',vmin=0, vmax=1)\n",
    "plt.xticks(range(len(ax_labels)), ax_labels)\n",
    "plt.yticks(range(len(ax_labels)), ax_labels)\n",
    "plt.title('female size distances')\n",
    "fig.savefig(data_loc +'female_size_matrix_normalized.pdf', bbox_inches='tight')"
   ]
  },
  {
   "cell_type": "markdown",
   "id": "10d7b100",
   "metadata": {},
   "source": [
    "## plot all against all"
   ]
  },
  {
   "cell_type": "code",
   "execution_count": 58,
   "id": "35ac376b",
   "metadata": {
    "tags": []
   },
   "outputs": [
    {
     "name": "stdout",
     "output_type": "stream",
     "text": [
      "coefficient of determination: 0.01718922218112362\n",
      "coefficient of determination: 0.0\n"
     ]
    },
    {
     "data": {
      "image/png": "[encoded data removed]",
      "text/plain": [
       "<Figure size 360x360 with 1 Axes>"
      ]
     },
     "metadata": {
      "needs_background": "light"
     },
     "output_type": "display_data"
    }
   ],
   "source": [
    "noz_cm = (plot_cm[~np.eye(plot_cm.shape[0],dtype=bool)].reshape(plot_cm.shape[0],-1)).flatten()\n",
    "noz_dist = (plot_dist[~np.eye(plot_dist.shape[0],dtype=bool)].reshape(plot_dist.shape[0],-1)).flatten()\n",
    "\n",
    "x = np.array(1-noz_dist).reshape(-1, 1)\n",
    "y= noz_cm\n",
    "from sklearn.linear_model import LinearRegression\n",
    "model = LinearRegression().fit(x,y)\n",
    "r_sq = model.score(x,y)\n",
    "print(f\"coefficient of determination: {r_sq}\")\n",
    "\n",
    "lr = ElasticNet(alpha=0.01)\n",
    "lr.fit(x, y)\n",
    "r_sq=lr.score(x, y)\n",
    "print(f\"coefficient of determination: {r_sq}\")\n",
    "\n",
    "fig, ax = plt.subplots()\n",
    "fig.set_size_inches(5,5)\n",
    "plt.scatter(x,y,c='#6C6295')\n",
    "ax.set_ylim(-0.05,1.05)\n",
    "ax.set_xlim(-0.05,1.05)\n",
    "ax.set_ylabel('decoding confusion')\n",
    "ax.set_xlabel('size similarity')\n",
    "ax.set_title('females: decoding confusion vs size similarity')\n",
    "fig.savefig(data_loc +'female_size_vs_confusion_decoder.pdf', bbox_inches='tight')"
   ]
  },
  {
   "cell_type": "markdown",
   "id": "b1d9657b",
   "metadata": {},
   "source": [
    "# Male data"
   ]
  },
  {
   "cell_type": "markdown",
   "id": "ec4865e0",
   "metadata": {},
   "source": [
    "## identity decoder with leave one mouse out"
   ]
  },
  {
   "cell_type": "code",
   "execution_count": 59,
   "id": "73d2224a",
   "metadata": {
    "tags": []
   },
   "outputs": [],
   "source": [
    "#### upload data\n",
    "decoder = 'mouse_confusion_decoder_male'\n",
    "with open(data_loc+decoder+'.dat', 'rb') as f:\n",
    "    out = pickle.load(f)"
   ]
  },
  {
   "cell_type": "code",
   "execution_count": 60,
   "id": "3aaad781",
   "metadata": {
    "tags": []
   },
   "outputs": [
    {
     "data": {
      "image/png": "[encoded data removed]",
      "text/plain": [
       "<Figure size 360x360 with 1 Axes>"
      ]
     },
     "metadata": {
      "needs_background": "light"
     },
     "output_type": "display_data"
    }
   ],
   "source": [
    "fig, ax = plt.subplots()\n",
    "fig.set_size_inches(5,5)\n",
    "cm = confusion_matrix(np.concatenate(out['y_true']),np.concatenate(out['y_pred']))\n",
    "plot_cm = (cm-np.min(cm))/(np.max(cm)-np.min(cm)) # normalize all to 0-1 scale\n",
    "im = plt.imshow(plot_cm, cmap='copper', vmin=0, vmax=1)\n",
    "ax_labels = np.unique(np.concatenate(out['y_true']))\n",
    "plt.xticks(range(len(ax_labels)), ax_labels)\n",
    "plt.yticks(range(len(ax_labels)), ax_labels)\n",
    "plt.title('male confusion decoder')\n",
    "fig.savefig(data_loc +'male_confusion_decoder_normalized.pdf', bbox_inches='tight')"
   ]
  },
  {
   "cell_type": "markdown",
   "id": "6b07fc7b",
   "metadata": {},
   "source": [
    "## size distance"
   ]
  },
  {
   "cell_type": "code",
   "execution_count": 61,
   "id": "54829a58",
   "metadata": {
    "tags": []
   },
   "outputs": [],
   "source": [
    "male_scalars = cal_scalars_sessions(male_mean_df,male_scalar_df,'robust')\n",
    "scalars = ['height','width','area','length']"
   ]
  },
  {
   "cell_type": "code",
   "execution_count": 62,
   "id": "0b24a78a",
   "metadata": {
    "tags": []
   },
   "outputs": [],
   "source": [
    "## correlate with euclidian distance of all metrics males\n",
    "minr= 10\n",
    "rep_counts = male_mean_df.groupby('mouse')['rep'].nunique()\n",
    "keep_mice = list(rep_counts[rep_counts >= minr].index) # keep mice that have at least 10 sessions\n",
    "\n",
    "from sklearn.preprocessing import StandardScaler\n",
    "# scale the scalars data\n",
    "scale= StandardScaler()\n",
    "df = male_scalars[['mouse','height','width','area','length']]\n",
    "df = df[df['mouse'].isin(keep_mice)].groupby(by = ['mouse']).mean().reset_index()\n",
    "data = df.drop(['mouse'], axis=1).to_numpy()\n",
    "scaled_data = scale.fit_transform(data) \n",
    "mouse = df.mouse.to_numpy()\n",
    "male_scaled = pd.DataFrame(np.vstack([mouse,scaled_data.T]).T, columns = list(df.columns))"
   ]
  },
  {
   "cell_type": "code",
   "execution_count": 63,
   "id": "1380eb99",
   "metadata": {
    "tags": []
   },
   "outputs": [
    {
     "data": {
      "image/png": "[encoded data removed]",
      "text/plain": [
       "<Figure size 360x360 with 1 Axes>"
      ]
     },
     "metadata": {
      "needs_background": "light"
     },
     "output_type": "display_data"
    }
   ],
   "source": [
    "# get euclidean distance between a vector all scalars\n",
    "fig, ax = plt.subplots()\n",
    "fig.set_size_inches(5,5)\n",
    "curr = male_scaled.drop('mouse',axis=1).to_numpy() \n",
    "dist=np.zeros((len(curr),len(curr)),dtype=float)\n",
    "for i in range(len(curr)):\n",
    "    for j in range(len(curr)):\n",
    "        dist[i][j] = np.linalg.norm(curr[i]-curr[j])\n",
    "\n",
    "## plot\n",
    "plot_dist = (dist-np.min(dist))/(np.max(dist)-np.min(dist))\n",
    "im = plt.imshow(plot_dist, cmap='copper',vmin=0, vmax=1)\n",
    "plt.xticks(range(len(ax_labels)), ax_labels)\n",
    "plt.yticks(range(len(ax_labels)), ax_labels)\n",
    "plt.title('male size distances')\n",
    "fig.savefig(data_loc +'male_size_matrix_normalized.pdf', bbox_inches='tight')"
   ]
  },
  {
   "cell_type": "markdown",
   "id": "e22ed624",
   "metadata": {},
   "source": [
    "## plot all against all"
   ]
  },
  {
   "cell_type": "code",
   "execution_count": 64,
   "id": "44cedef6",
   "metadata": {
    "tags": []
   },
   "outputs": [
    {
     "name": "stdout",
     "output_type": "stream",
     "text": [
      "coefficient of determination: 0.02957926561846913\n",
      "coefficient of determination: 0.0030687656875111324\n"
     ]
    },
    {
     "data": {
      "image/png": "[encoded data removed]",
      "text/plain": [
       "<Figure size 360x360 with 1 Axes>"
      ]
     },
     "metadata": {
      "needs_background": "light"
     },
     "output_type": "display_data"
    }
   ],
   "source": [
    "noz_cm = (plot_cm[~np.eye(plot_cm.shape[0],dtype=bool)].reshape(plot_cm.shape[0],-1)).flatten()\n",
    "noz_dist = (plot_dist[~np.eye(plot_dist.shape[0],dtype=bool)].reshape(plot_dist.shape[0],-1)).flatten()\n",
    "\n",
    "x = np.array(1-noz_dist).reshape(-1, 1)\n",
    "y= noz_cm\n",
    "from sklearn.linear_model import LinearRegression\n",
    "model = LinearRegression().fit(x,y)\n",
    "r_sq = model.score(x,y)\n",
    "print(f\"coefficient of determination: {r_sq}\")\n",
    "\n",
    "lr = ElasticNet(alpha=0.01)\n",
    "lr.fit(x, y)\n",
    "r_sq=lr.score(x, y)\n",
    "print(f\"coefficient of determination: {r_sq}\")\n",
    "\n",
    "fig, ax = plt.subplots()\n",
    "fig.set_size_inches(5,5)\n",
    "plt.scatter(x,y,c='#FBB040')\n",
    "ax.set_ylim(-0.05,1.05)\n",
    "ax.set_xlim(-0.05,1.05)\n",
    "ax.set_ylabel('decoding confusion')\n",
    "ax.set_xlabel('size similarity')\n",
    "ax.set_title('males: decoding confusion vs size similarity')\n",
    "fig.savefig(data_loc +'male_size_vs_confusion_decoder.pdf', bbox_inches='tight')"
   ]
  },
  {
   "cell_type": "code",
   "execution_count": null,
   "id": "73aeb79d",
   "metadata": {},
   "outputs": [],
   "source": []
  }
 ],
 "metadata": {
  "kernelspec": {
   "display_name": "Python 3",
   "language": "python",
   "name": "python3"
  },
  "language_info": {
   "codemirror_mode": {
    "name": "ipython",
    "version": 3
   },
   "file_extension": ".py",
   "mimetype": "text/x-python",
   "name": "python",
   "nbconvert_exporter": "python",
   "pygments_lexer": "ipython3",
   "version": "3.7.10"
  },
  "widgets": {
   "application/vnd.jupyter.widget-state+json": {
    "state": {},
    "version_major": 2,
    "version_minor": 0
   }
  }
 },
 "nbformat": 4,
 "nbformat_minor": 5
}
