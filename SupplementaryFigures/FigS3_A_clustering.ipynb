{
 "cells": [
  {
   "cell_type": "markdown",
   "id": "8c932cb4",
   "metadata": {},
   "source": [
    "imports and data uploads\n",
    "-----------"
   ]
  },
  {
   "cell_type": "code",
   "execution_count": 1,
   "id": "a9def74a",
   "metadata": {},
   "outputs": [],
   "source": [
    "import numpy as np\n",
    "import seaborn as sns\n",
    "import pandas as pd\n",
    "import matplotlib.pyplot as plt\n",
    "import warnings\n",
    "warnings.filterwarnings(\"ignore\", category=DeprecationWarning) \n",
    "warnings.simplefilter('ignore')\n",
    "import os\n",
    "from scipy import stats\n",
    "import colorcet as cc\n",
    "import scipy\n",
    "from sklearn.cluster import KMeans\n",
    "from sklearn.preprocessing import StandardScaler\n",
    "from sklearn.metrics import adjusted_rand_score\n",
    "%matplotlib inline"
   ]
  },
  {
   "cell_type": "code",
   "execution_count": 2,
   "id": "840d5b3c",
   "metadata": {},
   "outputs": [],
   "source": [
    "# upload data\n",
    "cpath = os.getcwd() #assumes mean_df_females is in the same path as the notebook\n",
    "mean_df = pd.read_csv(cpath+'/mean_df_male.csv')"
   ]
  },
  {
   "cell_type": "markdown",
   "id": "39f57ead",
   "metadata": {},
   "source": [
    "rearrrange data in structure\n",
    "----------"
   ]
  },
  {
   "cell_type": "code",
   "execution_count": 3,
   "id": "6ca22099",
   "metadata": {},
   "outputs": [],
   "source": [
    "# arrange all data in stcuture: 4 phases X 16 mice in each phase X n samples in session\n",
    "mic = sorted(mean_df['mouse'].unique())\n",
    "rep = sorted(mean_df['rep'].unique())\n",
    "msessions=[]\n",
    "mdbg = []\n",
    "mmice=[]\n",
    "mrep = []\n",
    "for indm, mc in enumerate(mic): # for all mice\n",
    "    s1=[]\n",
    "    rep1=[]\n",
    "    smic1=[]\n",
    "    m1=[]\n",
    "    curr=mean_df.loc[(mean_df['mouse']==mc)] # find the current mouse in current phase\n",
    "    sor=np.argsort(curr['rep'].unique(),axis=0)\n",
    "    cs=curr['SubjectName'].unique()[sor]\n",
    "    for inds, ss in enumerate(cs): #all session for a mouse\n",
    "            syl = curr.loc[curr['SubjectName']==ss]['usage'].values\n",
    "            area = curr.loc[curr['SubjectName']==ss]['area_mm'].mean()\n",
    "            s1.append(ss) #session name\n",
    "            rep1.append(int(curr.loc[curr['SubjectName']==ss]['rep'].unique())) #repetition number\n",
    "            smic1.append(syl) #syllable usafe\n",
    "            m1.append(mc) #mouse\n",
    "    mmice.append(m1) # 16 mics X n sessions \n",
    "    mdbg.append(smic1) #syllable usages 16 mice X n sessions X 61 syllables \n",
    "    msessions.append(s1) # 16 mice X sessions names\n",
    "    mrep.append(rep1) # 16 mice X repetitions names"
   ]
  },
  {
   "cell_type": "markdown",
   "id": "b7131dc4",
   "metadata": {},
   "source": [
    "# ----------------------------------------------------------------------- \n",
    "# ANALYSIS\n",
    "# -----------------------------------------------------------------------"
   ]
  },
  {
   "cell_type": "code",
   "execution_count": 4,
   "id": "b4320481",
   "metadata": {},
   "outputs": [],
   "source": [
    "# plot/colors definitions\n",
    "from matplotlib.lines import Line2D\n",
    "import matplotlib as mpl\n",
    "\n",
    "# save figures\n",
    "data_loc=cpath+'/figs/'\n",
    "try:\n",
    "    os.mkdir(data_loc)\n",
    "except FileExistsError:\n",
    "    # directory already exists\n",
    "    pass\n",
    "os.chdir(data_loc)\n",
    "\n",
    "plt.style.use(\"seaborn-paper\")\n",
    "\n",
    "rrep_labels = np.unique(np.concatenate(mrep))\n",
    "mouse_labels = np.unique(np.concatenate(mmice))\n",
    "max_sylls=len(mdbg[0][1])"
   ]
  },
  {
   "cell_type": "markdown",
   "id": "c45651d7",
   "metadata": {},
   "source": [
    "## clustering analysis"
   ]
  },
  {
   "cell_type": "code",
   "execution_count": 5,
   "id": "fa196edf",
   "metadata": {},
   "outputs": [],
   "source": [
    "## for individuals"
   ]
  },
  {
   "cell_type": "code",
   "execution_count": 6,
   "id": "097bee69",
   "metadata": {},
   "outputs": [
    {
     "name": "stdout",
     "output_type": "stream",
     "text": [
      "ARI for clustering by individuals for males 0.469944533485906\n"
     ]
    }
   ],
   "source": [
    "from kneed import KneeLocator\n",
    "from sklearn.datasets import make_blobs\n",
    "from sklearn.cluster import KMeans\n",
    "from sklearn.metrics import silhouette_score\n",
    "from sklearn.preprocessing import StandardScaler\n",
    "from sklearn.cluster import DBSCAN\n",
    "from sklearn.datasets import make_moons\n",
    "from sklearn.metrics import adjusted_rand_score\n",
    "\n",
    "# prepare data\n",
    "frequencies = np.concatenate(mdbg)\n",
    "\n",
    "#scaling the data\n",
    "scaler = StandardScaler()\n",
    "scaled_features = scaler.fit_transform(frequencies)\n",
    "\n",
    "#clustering\n",
    "nclust=16\n",
    "kmeans_kwargs = {\"init\": \"random\",\n",
    "                \"n_init\": 10,\n",
    "                \"max_iter\": 300,\n",
    "                \"random_state\": 22}\n",
    "\n",
    "kmeans = KMeans(n_clusters=nclust, **kmeans_kwargs)\n",
    "kmeans.fit_predict(scaled_features)\n",
    "#kmeans.fit(scaled_features)\n",
    "\n",
    "# The actual labels\n",
    "clust_labels_indv = kmeans.labels_\n",
    "\n",
    "# explore goodness of fit to true labels of indv mice\n",
    "_, idx = np.unique(clust_labels_indv, return_index=True) #unique labels by clustering\n",
    "clust_labels = clust_labels_indv[np.sort(idx)]\n",
    "\n",
    "# prepare data\n",
    "mouse_true_labels = np.unique(np.concatenate(mmice)) #unique labels by mice in exp\n",
    "new_mouse_labels = np.concatenate(mmice.copy()) # all labels of mice in expetiment\n",
    "\n",
    "#change eacn label in mouse to corresponding label in cluster labels\n",
    "for i in range(len(mouse_true_labels)): \n",
    "    new_mouse_labels[new_mouse_labels==mouse_true_labels[i]] = clust_labels[i]\n",
    "\n",
    "clust_labels_indv_str =list(map(str,clust_labels_indv)) # turn clusters into string labels\n",
    "\n",
    "# accuracy of clustering scores:\n",
    "ari_kmeans = adjusted_rand_score(new_mouse_labels, clust_labels_indv_str)\n",
    "print('ARI for clustering by individuals for males '+str(ari_kmeans))"
   ]
  }
 ],
 "metadata": {
  "kernelspec": {
   "display_name": "Python 3",
   "language": "python",
   "name": "python3"
  },
  "language_info": {
   "codemirror_mode": {
    "name": "ipython",
    "version": 3
   },
   "file_extension": ".py",
   "mimetype": "text/x-python",
   "name": "python",
   "nbconvert_exporter": "python",
   "pygments_lexer": "ipython3",
   "version": "3.7.10"
  },
  "widgets": {
   "application/vnd.jupyter.widget-state+json": {
    "state": {},
    "version_major": 2,
    "version_minor": 0
   }
  }
 },
 "nbformat": 4,
 "nbformat_minor": 5
}
